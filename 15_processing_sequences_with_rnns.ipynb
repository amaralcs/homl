{
 "cells": [
  {
   "cell_type": "code",
   "execution_count": 1,
   "metadata": {},
   "outputs": [],
   "source": [
    "import numpy as np\n",
    "import tensorflow as tf\n",
    "from tensorflow import keras\n",
    "\n",
    "import matplotlib.pyplot as plt\n",
    "from jupyterthemes import jtplot\n",
    "jtplot.style()\n",
    "\n",
    "%matplotlib inline\n",
    "np.random.seed(45)\n",
    "tf.random.set_seed(45)"
   ]
  },
  {
   "cell_type": "markdown",
   "metadata": {},
   "source": [
    "For this chapter I'll take a different approach. Mostly read the book and type relevant code snippets in the notebook. Hopefully will be much faster."
   ]
  },
  {
   "cell_type": "markdown",
   "metadata": {},
   "source": [
    "## Forecasting a time series"
   ]
  },
  {
   "cell_type": "markdown",
   "metadata": {},
   "source": [
    "Let's define a function to generate a time series"
   ]
  },
  {
   "cell_type": "code",
   "execution_count": 2,
   "metadata": {},
   "outputs": [],
   "source": [
    "BATCH_SIZE = 3\n",
    "\n",
    "def generate_time_series(batch_size, n_steps):\n",
    "    freq1, freq2, offsets1, offsets2 = np.random.rand(4, batch_size, 1)\n",
    "    time = np.linspace(0, 1, n_steps)\n",
    "    series = 0.5 * np.sin((time - offsets1) * (freq1 * 10 + 10))  # wave 1\n",
    "    series += 0.2 * np.sin((time - offsets2) * (freq2 * 20 + 20))  # wave 2\n",
    "    series += 0.1 * (np.random.rand(batch_size, n_steps) -0.5)  # add a bit of noise\n",
    "    return series[..., np.newaxis].astype(np.float32)\n",
    "\n",
    "series = generate_time_series(BATCH_SIZE, 50)"
   ]
  },
  {
   "cell_type": "markdown",
   "metadata": {},
   "source": [
    "A sample of how they look. In these examples we're tipically interested in predicting the next value in the time series (marked with the green x)"
   ]
  },
  {
   "cell_type": "code",
   "execution_count": 3,
   "metadata": {},
   "outputs": [
    {
     "data": {
      "image/png": "[encoded data removed]",
      "text/plain": [
       "<Figure size 792x288 with 3 Axes>"
      ]
     },
     "metadata": {
      "needs_background": "dark"
     },
     "output_type": "display_data"
    }
   ],
   "source": [
    "fig, axes = plt.subplots(nrows=1, ncols=BATCH_SIZE, figsize=(11,4))\n",
    "\n",
    "for idx, ax in enumerate(axes):\n",
    "    ts = series[idx]\n",
    "    x_axis = range(len(ts[:-1]))\n",
    "    ax.plot(x_axis, ts[:-1], linewidth=0.4, marker='.')\n",
    "    ax.plot(len(ts[:-1])+1, ts[-1], marker='X')\n",
    "    \n",
    "    ax.set_ylabel('$x(t)$')\n",
    "    ax.set_xlabel('$t$')\n",
    "    ax.set_xlim(left=0, right=len(ts) + 1)\n",
    "    ax.set_ylim(bottom=-1, top=1)\n",
    "\n",
    "    fig.tight_layout()"
   ]
  },
  {
   "cell_type": "markdown",
   "metadata": {},
   "source": [
    "Let's create some datasets!"
   ]
  },
  {
   "cell_type": "code",
   "execution_count": 4,
   "metadata": {},
   "outputs": [],
   "source": [
    "n_steps = 50\n",
    "series = generate_time_series(10000, n_steps + 1)\n",
    "X_train, y_train = series[:7000, :n_steps], series[:7000, -1]\n",
    "X_valid, y_valid = series[7000:9000, :n_steps], series[7000:9000, -1]\n",
    "X_test, y_test = series[9000:, :n_steps], series[9000:, -1]"
   ]
  },
  {
   "cell_type": "code",
   "execution_count": 5,
   "metadata": {},
   "outputs": [
    {
     "data": {
      "text/plain": [
       "(7000, 50, 1)"
      ]
     },
     "execution_count": 5,
     "metadata": {},
     "output_type": "execute_result"
    }
   ],
   "source": [
    "X_train.shape"
   ]
  },
  {
   "cell_type": "markdown",
   "metadata": {},
   "source": [
    "### Baseline Metrics"
   ]
  },
  {
   "cell_type": "markdown",
   "metadata": {},
   "source": [
    "The simplest appreach we can take for prediction, is simply to predict the last value just seen. Let's use that and calculate the mean squared error"
   ]
  },
  {
   "cell_type": "code",
   "execution_count": 6,
   "metadata": {},
   "outputs": [
    {
     "data": {
      "text/plain": [
       "0.02044728"
      ]
     },
     "execution_count": 6,
     "metadata": {},
     "output_type": "execute_result"
    }
   ],
   "source": [
    "y_pred = X_valid[:, -1]\n",
    "np.mean(keras.losses.mean_squared_error(y_valid, y_pred))"
   ]
  },
  {
   "cell_type": "markdown",
   "metadata": {},
   "source": [
    "Another approach we can take is to create a simple fully connected network to create a linar regression model. Each prediction will be a linear combination of the values in the time series"
   ]
  },
  {
   "cell_type": "code",
   "execution_count": 7,
   "metadata": {
    "scrolled": true
   },
   "outputs": [
    {
     "name": "stdout",
     "output_type": "stream",
     "text": [
      "Epoch 1/20\n",
      "219/219 [==============================] - 1s 3ms/step - loss: 0.1322 - val_loss: 0.0677\n",
      "Epoch 2/20\n",
      "219/219 [==============================] - 0s 2ms/step - loss: 0.0434 - val_loss: 0.0298\n",
      "Epoch 3/20\n",
      "219/219 [==============================] - 0s 2ms/step - loss: 0.0232 - val_loss: 0.0182\n",
      "Epoch 4/20\n",
      "219/219 [==============================] - 0s 1ms/step - loss: 0.0161 - val_loss: 0.0135\n",
      "Epoch 5/20\n",
      "219/219 [==============================] - 0s 2ms/step - loss: 0.0130 - val_loss: 0.0111\n",
      "Epoch 6/20\n",
      "219/219 [==============================] - 1s 3ms/step - loss: 0.0110 - val_loss: 0.0095\n",
      "Epoch 7/20\n",
      "219/219 [==============================] - 1s 3ms/step - loss: 0.0096 - val_loss: 0.0084\n",
      "Epoch 8/20\n",
      "219/219 [==============================] - 0s 1ms/step - loss: 0.0084 - val_loss: 0.0074\n",
      "Epoch 9/20\n",
      "219/219 [==============================] - 1s 2ms/step - loss: 0.0074 - val_loss: 0.0066\n",
      "Epoch 10/20\n",
      "219/219 [==============================] - 0s 2ms/step - loss: 0.0066 - val_loss: 0.0060\n",
      "Epoch 11/20\n",
      "219/219 [==============================] - 0s 2ms/step - loss: 0.0060 - val_loss: 0.0055\n",
      "Epoch 12/20\n",
      "219/219 [==============================] - 0s 2ms/step - loss: 0.0055 - val_loss: 0.0051\n",
      "Epoch 13/20\n",
      "219/219 [==============================] - 0s 2ms/step - loss: 0.0051 - val_loss: 0.0048\n",
      "Epoch 14/20\n",
      "219/219 [==============================] - 0s 2ms/step - loss: 0.0049 - val_loss: 0.0047\n",
      "Epoch 15/20\n",
      "219/219 [==============================] - 0s 2ms/step - loss: 0.0047 - val_loss: 0.0045\n",
      "Epoch 16/20\n",
      "219/219 [==============================] - 1s 2ms/step - loss: 0.0045 - val_loss: 0.0044\n",
      "Epoch 17/20\n",
      "219/219 [==============================] - 0s 2ms/step - loss: 0.0044 - val_loss: 0.0042\n",
      "Epoch 18/20\n",
      "219/219 [==============================] - 0s 1ms/step - loss: 0.0042 - val_loss: 0.0040\n",
      "Epoch 19/20\n",
      "219/219 [==============================] - 0s 1ms/step - loss: 0.0041 - val_loss: 0.0040\n",
      "Epoch 20/20\n",
      "219/219 [==============================] - 0s 2ms/step - loss: 0.0040 - val_loss: 0.0038\n"
     ]
    },
    {
     "data": {
      "text/plain": [
       "<tensorflow.python.keras.callbacks.History at 0x7f78b461feb0>"
      ]
     },
     "execution_count": 7,
     "metadata": {},
     "output_type": "execute_result"
    }
   ],
   "source": [
    "model = keras.models.Sequential([\n",
    "    keras.layers.Flatten(input_shape=[50,1]),\n",
    "    keras.layers.Dense(1)\n",
    "])\n",
    "model.compile(optimizer='adam', loss='mean_squared_error')\n",
    "model.fit(X_train, y_train, epochs=20, validation_data=(X_valid, y_valid))"
   ]
  },
  {
   "cell_type": "code",
   "execution_count": 8,
   "metadata": {},
   "outputs": [
    {
     "name": "stdout",
     "output_type": "stream",
     "text": [
      "Model: \"sequential\"\n",
      "_________________________________________________________________\n",
      "Layer (type)                 Output Shape              Param #   \n",
      "=================================================================\n",
      "flatten (Flatten)            (None, 50)                0         \n",
      "_________________________________________________________________\n",
      "dense (Dense)                (None, 1)                 51        \n",
      "=================================================================\n",
      "Total params: 51\n",
      "Trainable params: 51\n",
      "Non-trainable params: 0\n",
      "_________________________________________________________________\n"
     ]
    }
   ],
   "source": [
    "model.summary()"
   ]
  },
  {
   "cell_type": "code",
   "execution_count": 9,
   "metadata": {},
   "outputs": [
    {
     "data": {
      "text/plain": [
       "0.003824253100901842"
      ]
     },
     "execution_count": 9,
     "metadata": {},
     "output_type": "execute_result"
    }
   ],
   "source": [
    "model.history.history['val_loss'][-1]"
   ]
  },
  {
   "cell_type": "markdown",
   "metadata": {},
   "source": [
    "Much better loss!"
   ]
  },
  {
   "cell_type": "markdown",
   "metadata": {},
   "source": [
    "### Implementing a SimpleRNN"
   ]
  },
  {
   "cell_type": "markdown",
   "metadata": {},
   "source": [
    "Time series are tipycally represented as 3D arrays of shape [batch_size, time_steps, dimensionality], where dimensinality is 1 for univariate time series. Keras' SimpleRNN uses tanh as the default activation for these layers"
   ]
  },
  {
   "cell_type": "code",
   "execution_count": 10,
   "metadata": {
    "scrolled": true
   },
   "outputs": [
    {
     "name": "stdout",
     "output_type": "stream",
     "text": [
      "Epoch 1/20\n",
      "219/219 [==============================] - 2s 9ms/step - loss: 0.1581 - val_loss: 0.1467\n",
      "Epoch 2/20\n",
      "219/219 [==============================] - 2s 8ms/step - loss: 0.1437 - val_loss: 0.1442\n",
      "Epoch 3/20\n",
      "219/219 [==============================] - 2s 8ms/step - loss: 0.1423 - val_loss: 0.1434\n",
      "Epoch 4/20\n",
      "219/219 [==============================] - 2s 8ms/step - loss: 0.1415 - val_loss: 0.1451\n",
      "Epoch 5/20\n",
      "219/219 [==============================] - 2s 8ms/step - loss: 0.1421 - val_loss: 0.1441\n",
      "Epoch 6/20\n",
      "219/219 [==============================] - 2s 8ms/step - loss: 0.1419 - val_loss: 0.1450\n",
      "Epoch 7/20\n",
      "219/219 [==============================] - 2s 9ms/step - loss: 0.1421 - val_loss: 0.1465\n",
      "Epoch 8/20\n",
      "219/219 [==============================] - 2s 8ms/step - loss: 0.1418 - val_loss: 0.1446\n",
      "Epoch 9/20\n",
      "219/219 [==============================] - 2s 7ms/step - loss: 0.1416 - val_loss: 0.1434\n",
      "Epoch 10/20\n",
      "219/219 [==============================] - 2s 8ms/step - loss: 0.1414 - val_loss: 0.1446\n",
      "Epoch 11/20\n",
      "219/219 [==============================] - 2s 8ms/step - loss: 0.1420 - val_loss: 0.1435\n",
      "Epoch 12/20\n",
      "219/219 [==============================] - 2s 8ms/step - loss: 0.1417 - val_loss: 0.1433\n",
      "Epoch 13/20\n",
      "219/219 [==============================] - 2s 8ms/step - loss: 0.1418 - val_loss: 0.1445\n",
      "Epoch 14/20\n",
      "219/219 [==============================] - 2s 8ms/step - loss: 0.1417 - val_loss: 0.1435\n",
      "Epoch 15/20\n",
      "219/219 [==============================] - 2s 8ms/step - loss: 0.1419 - val_loss: 0.1431\n",
      "Epoch 16/20\n",
      "219/219 [==============================] - 2s 8ms/step - loss: 0.1420 - val_loss: 0.1438\n",
      "Epoch 17/20\n",
      "219/219 [==============================] - 2s 8ms/step - loss: 0.1417 - val_loss: 0.1434\n",
      "Epoch 18/20\n",
      "219/219 [==============================] - 2s 8ms/step - loss: 0.1418 - val_loss: 0.1438\n",
      "Epoch 19/20\n",
      "219/219 [==============================] - 2s 8ms/step - loss: 0.1419 - val_loss: 0.1436\n",
      "Epoch 20/20\n",
      "219/219 [==============================] - 2s 8ms/step - loss: 0.1418 - val_loss: 0.1456\n"
     ]
    },
    {
     "data": {
      "text/plain": [
       "<tensorflow.python.keras.callbacks.History at 0x7f78ba570d90>"
      ]
     },
     "execution_count": 10,
     "metadata": {},
     "output_type": "execute_result"
    }
   ],
   "source": [
    "model = keras.models.Sequential([\n",
    "    keras.layers.SimpleRNN(1, input_shape=[None, 1]) \n",
    "])\n",
    "model.compile(optimizer='adam', loss='mean_squared_error')\n",
    "model.fit(X_train, y_train, epochs=20, validation_data=(X_valid, y_valid))"
   ]
  },
  {
   "cell_type": "code",
   "execution_count": 11,
   "metadata": {},
   "outputs": [
    {
     "name": "stdout",
     "output_type": "stream",
     "text": [
      "Model: \"sequential_1\"\n",
      "_________________________________________________________________\n",
      "Layer (type)                 Output Shape              Param #   \n",
      "=================================================================\n",
      "simple_rnn (SimpleRNN)       (None, 1)                 3         \n",
      "=================================================================\n",
      "Total params: 3\n",
      "Trainable params: 3\n",
      "Non-trainable params: 0\n",
      "_________________________________________________________________\n"
     ]
    }
   ],
   "source": [
    "model.summary()"
   ]
  },
  {
   "cell_type": "code",
   "execution_count": 12,
   "metadata": {},
   "outputs": [
    {
     "data": {
      "text/plain": [
       "0.14560788869857788"
      ]
     },
     "execution_count": 12,
     "metadata": {},
     "output_type": "execute_result"
    }
   ],
   "source": [
    "model.history.history['val_loss'][-1]"
   ]
  },
  {
   "cell_type": "markdown",
   "metadata": {},
   "source": [
    "**Note on Trend and Seasonality**\n",
    "\n",
    "Other time series models such as ARIMA require you to detrend and remove seasonality from your data prior to fitting. When using RNNs it is usually not necessary to do this but it may improve performance in some cases as the model will not have to learn the trend or the seasonality"
   ]
  },
  {
   "cell_type": "markdown",
   "metadata": {},
   "source": [
    "### Deep RNNs"
   ]
  },
  {
   "cell_type": "markdown",
   "metadata": {},
   "source": [
    "We can stack SimpleRNNS to create deeper models. Note we use ```return_sequences=True``` so that each intermediate layer returns a 3D array conrainig outputs for all time steps"
   ]
  },
  {
   "cell_type": "code",
   "execution_count": 13,
   "metadata": {},
   "outputs": [
    {
     "name": "stdout",
     "output_type": "stream",
     "text": [
      "Epoch 1/5\n",
      "219/219 [==============================] - 6s 26ms/step - loss: 0.0558 - val_loss: 0.0086\n",
      "Epoch 2/5\n",
      "219/219 [==============================] - 5s 25ms/step - loss: 0.0065 - val_loss: 0.0050\n",
      "Epoch 3/5\n",
      "219/219 [==============================] - 5s 25ms/step - loss: 0.0050 - val_loss: 0.0039\n",
      "Epoch 4/5\n",
      "219/219 [==============================] - 5s 24ms/step - loss: 0.0041 - val_loss: 0.0039\n",
      "Epoch 5/5\n",
      "219/219 [==============================] - 5s 24ms/step - loss: 0.0038 - val_loss: 0.0034\n"
     ]
    },
    {
     "data": {
      "text/plain": [
       "<tensorflow.python.keras.callbacks.History at 0x7f7894326700>"
      ]
     },
     "execution_count": 13,
     "metadata": {},
     "output_type": "execute_result"
    }
   ],
   "source": [
    "model = keras.models.Sequential([\n",
    "    keras.layers.SimpleRNN(20, return_sequences=True, input_shape=[None, 1]),\n",
    "    keras.layers.SimpleRNN(20, return_sequences=True),\n",
    "    keras.layers.SimpleRNN(1)\n",
    "])\n",
    "model.compile(optimizer='adam', loss='mean_squared_error')\n",
    "model.fit(X_train, y_train, epochs=5, validation_data=(X_valid, y_valid))"
   ]
  },
  {
   "cell_type": "markdown",
   "metadata": {},
   "source": [
    "The last layer is a bit inneficient since it's just a single RNN unit. We could replace it with a Dense layer which would allow us to use any activation, with the model performing just as well."
   ]
  },
  {
   "cell_type": "code",
   "execution_count": 14,
   "metadata": {},
   "outputs": [
    {
     "name": "stdout",
     "output_type": "stream",
     "text": [
      "Epoch 1/5\n",
      "219/219 [==============================] - 4s 19ms/step - loss: 0.0253 - val_loss: 0.0060\n",
      "Epoch 2/5\n",
      "219/219 [==============================] - 4s 18ms/step - loss: 0.0048 - val_loss: 0.0040\n",
      "Epoch 3/5\n",
      "219/219 [==============================] - 4s 18ms/step - loss: 0.0036 - val_loss: 0.0032\n",
      "Epoch 4/5\n",
      "219/219 [==============================] - 5s 22ms/step - loss: 0.0033 - val_loss: 0.0031\n",
      "Epoch 5/5\n",
      "219/219 [==============================] - 5s 24ms/step - loss: 0.0032 - val_loss: 0.0032\n"
     ]
    },
    {
     "data": {
      "text/plain": [
       "<tensorflow.python.keras.callbacks.History at 0x7f787c5ec1f0>"
      ]
     },
     "execution_count": 14,
     "metadata": {},
     "output_type": "execute_result"
    }
   ],
   "source": [
    "model = keras.models.Sequential([\n",
    "    keras.layers.SimpleRNN(20, return_sequences=True, input_shape=[None, 1]),\n",
    "    keras.layers.SimpleRNN(20),\n",
    "    keras.layers.Dense(1)\n",
    "])\n",
    "model.compile(optimizer='adam', loss='mean_squared_error')\n",
    "model.fit(X_train, y_train, epochs=5, validation_data=(X_valid, y_valid))"
   ]
  },
  {
   "cell_type": "markdown",
   "metadata": {},
   "source": [
    "### Forecasting Several Time Steps Ahead"
   ]
  },
  {
   "cell_type": "markdown",
   "metadata": {},
   "source": [
    "If we want to predict the next 10 values in the time series, one approach we can take is to predict the next value, add that to the inputs, then predict the next one, add that to inputs and so on. The downside with this approach is that prediction for later steps will be less accurate (errors might accumulate)"
   ]
  },
  {
   "cell_type": "code",
   "execution_count": 16,
   "metadata": {},
   "outputs": [],
   "source": [
    "series = generate_time_series(1, n_steps + 10)\n",
    "X_new, Y_new = series[:, :n_steps], series[:, n_steps:]\n",
    "X = X_new\n",
    "for step_ahead in range(10):\n",
    "    y_pred_one = model.predict(X[:, step_ahead:])[:, np.newaxis, :]\n",
    "    X = np.concatenate([X, y_pred_one], axis=1)\n",
    "Y_pred = X[:, n_steps:]"
   ]
  },
  {
   "cell_type": "code",
   "execution_count": 17,
   "metadata": {},
   "outputs": [
    {
     "data": {
      "image/png": "[encoded data removed]",
      "text/plain": [
       "<Figure size 720x288 with 1 Axes>"
      ]
     },
     "metadata": {
      "needs_background": "dark"
     },
     "output_type": "display_data"
    }
   ],
   "source": [
    "fig, ax = plt.subplots(figsize=(10,4))\n",
    "\n",
    "t = range(n_steps)\n",
    "ax.plot(t, X_new[0, :, 0], linewidth=0.4, marker='.')\n",
    "\n",
    "actual_vals = series[0, n_steps:, 0]\n",
    "ax.plot(range(n_steps, 60), actual_vals, linewidth=0.4, marker='.', c='b', label='actual')\n",
    "\n",
    "ax.plot(range(n_steps, 60), Y_pred[0, :, 0], linewidth=0.4, marker='X', c='g', label='forecasted')\n",
    "\n",
    "ax.set_ylabel('$x(t)$')\n",
    "ax.set_xlabel('$t$')\n",
    "ax.set_xlim(left=0, right=n_steps + 10 + 1)\n",
    "ax.set_ylim(bottom=-1, top=1)\n",
    "ax.legend()\n",
    "\n",
    "fig.tight_layout()"
   ]
  },
  {
   "cell_type": "markdown",
   "metadata": {},
   "source": [
    "An alternative is to train an RNN to predict all 10 next values at once. This requires us to change the target vectors to contain the next 10 values"
   ]
  },
  {
   "cell_type": "code",
   "execution_count": 18,
   "metadata": {},
   "outputs": [],
   "source": [
    "series = generate_time_series(10000, n_steps+10)\n",
    "X_train, Y_train = series[:7000, :n_steps], series[:7000, -10:, 0]\n",
    "X_valid, Y_valid = series[7000:9000, :n_steps], series[7000:9000, -10:, 0]\n",
    "X_test, Y_test = series[9000:, :n_steps], series[9000:, -10:, 0]"
   ]
  },
  {
   "cell_type": "markdown",
   "metadata": {},
   "source": [
    "And change the outputs to have 10 units instead of 1"
   ]
  },
  {
   "cell_type": "code",
   "execution_count": 19,
   "metadata": {},
   "outputs": [
    {
     "name": "stdout",
     "output_type": "stream",
     "text": [
      "Epoch 1/5\n",
      "219/219 [==============================] - 5s 21ms/step - loss: 0.1590 - val_loss: 0.1452\n",
      "Epoch 2/5\n",
      "219/219 [==============================] - 4s 18ms/step - loss: 0.1444 - val_loss: 0.1445\n",
      "Epoch 3/5\n",
      "219/219 [==============================] - 4s 19ms/step - loss: 0.1439 - val_loss: 0.1442\n",
      "Epoch 4/5\n",
      "219/219 [==============================] - 4s 18ms/step - loss: 0.1436 - val_loss: 0.1443\n",
      "Epoch 5/5\n",
      "219/219 [==============================] - 4s 19ms/step - loss: 0.1437 - val_loss: 0.1440\n"
     ]
    },
    {
     "data": {
      "text/plain": [
       "<tensorflow.python.keras.callbacks.History at 0x7f787c249a00>"
      ]
     },
     "execution_count": 19,
     "metadata": {},
     "output_type": "execute_result"
    }
   ],
   "source": [
    "model = keras.models.Sequential([\n",
    "    keras.layers.SimpleRNN(20, return_sequences=True, input_shape=[None, 1]),\n",
    "    keras.layers.SimpleRNN(20),\n",
    "    keras.layers.Dense(10)\n",
    "])\n",
    "model.compile(optimizer='adam', loss='mean_squared_error')\n",
    "model.fit(X_train, y_train, epochs=5, validation_data=(X_valid, y_valid))"
   ]
  },
  {
   "cell_type": "code",
   "execution_count": 20,
   "metadata": {},
   "outputs": [],
   "source": [
    "Y_pred = model.predict(X_new)"
   ]
  },
  {
   "cell_type": "markdown",
   "metadata": {},
   "source": [
    "Let's convert this model to a sequence-to-sequence model. Book pg 510 for description"
   ]
  },
  {
   "cell_type": "code",
   "execution_count": 21,
   "metadata": {},
   "outputs": [],
   "source": [
    "Y = np.empty((10000, n_steps, 10)) # each target is a sequence of 10D vectors\n",
    "for step_ahead in range(1, 10 + 1):\n",
    "    Y[:, :, step_ahead - 1] = series[:, step_ahead:step_ahead + n_steps, 0]\n",
    "Y_train = Y[:7000]\n",
    "Y_valid = Y[7000:9000]\n",
    "Y_test = Y[9000:]"
   ]
  },
  {
   "cell_type": "code",
   "execution_count": 22,
   "metadata": {},
   "outputs": [
    {
     "data": {
      "text/plain": [
       "(7000, 50, 10)"
      ]
     },
     "execution_count": 22,
     "metadata": {},
     "output_type": "execute_result"
    }
   ],
   "source": [
    "Y_train.shape"
   ]
  },
  {
   "cell_type": "markdown",
   "metadata": {},
   "source": [
    "Now we  add ```return_sequences``` to all layers and introduce a ```TimeDistributed``` layer. It wraps any layer and applies it at each step of a time sequence.\n",
    "\n",
    "We will also use a custom metric to compute the MSE over the output at the last time step"
   ]
  },
  {
   "cell_type": "code",
   "execution_count": 23,
   "metadata": {
    "scrolled": true
   },
   "outputs": [
    {
     "name": "stdout",
     "output_type": "stream",
     "text": [
      "Epoch 1/20\n",
      "219/219 [==============================] - 4s 19ms/step - loss: 0.0495 - last_time_step_mse: 0.0374 - val_loss: 0.0379 - val_last_time_step_mse: 0.0230\n",
      "Epoch 2/20\n",
      "219/219 [==============================] - 4s 18ms/step - loss: 0.0359 - last_time_step_mse: 0.0230 - val_loss: 0.0407 - val_last_time_step_mse: 0.0288\n",
      "Epoch 3/20\n",
      "219/219 [==============================] - 4s 18ms/step - loss: 0.0320 - last_time_step_mse: 0.0200 - val_loss: 0.0335 - val_last_time_step_mse: 0.0221\n",
      "Epoch 4/20\n",
      "219/219 [==============================] - 4s 18ms/step - loss: 0.0296 - last_time_step_mse: 0.0178 - val_loss: 0.0288 - val_last_time_step_mse: 0.0165\n",
      "Epoch 5/20\n",
      "219/219 [==============================] - 4s 19ms/step - loss: 0.0284 - last_time_step_mse: 0.0162 - val_loss: 0.0271 - val_last_time_step_mse: 0.0146\n",
      "Epoch 6/20\n",
      "219/219 [==============================] - 4s 18ms/step - loss: 0.0258 - last_time_step_mse: 0.0135 - val_loss: 0.0246 - val_last_time_step_mse: 0.0126\n",
      "Epoch 7/20\n",
      "219/219 [==============================] - 4s 18ms/step - loss: 0.0229 - last_time_step_mse: 0.0106 - val_loss: 0.0221 - val_last_time_step_mse: 0.0093\n",
      "Epoch 8/20\n",
      "219/219 [==============================] - 4s 18ms/step - loss: 0.0219 - last_time_step_mse: 0.0097 - val_loss: 0.0217 - val_last_time_step_mse: 0.0092\n",
      "Epoch 9/20\n",
      "219/219 [==============================] - 4s 18ms/step - loss: 0.0250 - last_time_step_mse: 0.0142 - val_loss: 0.0249 - val_last_time_step_mse: 0.0139\n",
      "Epoch 10/20\n",
      "219/219 [==============================] - 4s 19ms/step - loss: 0.0209 - last_time_step_mse: 0.0090 - val_loss: 0.0204 - val_last_time_step_mse: 0.0088\n",
      "Epoch 11/20\n",
      "219/219 [==============================] - 4s 18ms/step - loss: 0.0199 - last_time_step_mse: 0.0080 - val_loss: 0.0194 - val_last_time_step_mse: 0.0074\n",
      "Epoch 12/20\n",
      "219/219 [==============================] - 4s 18ms/step - loss: 0.0200 - last_time_step_mse: 0.0083 - val_loss: 0.0210 - val_last_time_step_mse: 0.0090\n",
      "Epoch 13/20\n",
      "219/219 [==============================] - 4s 18ms/step - loss: 0.0198 - last_time_step_mse: 0.0081 - val_loss: 0.0207 - val_last_time_step_mse: 0.0098\n",
      "Epoch 14/20\n",
      "219/219 [==============================] - 4s 18ms/step - loss: 0.0194 - last_time_step_mse: 0.0077 - val_loss: 0.0193 - val_last_time_step_mse: 0.0076\n",
      "Epoch 15/20\n",
      "219/219 [==============================] - 4s 19ms/step - loss: 0.0195 - last_time_step_mse: 0.0079 - val_loss: 0.0188 - val_last_time_step_mse: 0.0067\n",
      "Epoch 16/20\n",
      "219/219 [==============================] - 4s 19ms/step - loss: 0.0195 - last_time_step_mse: 0.0079 - val_loss: 0.0194 - val_last_time_step_mse: 0.0079\n",
      "Epoch 17/20\n",
      "219/219 [==============================] - 4s 19ms/step - loss: 0.0190 - last_time_step_mse: 0.0073 - val_loss: 0.0189 - val_last_time_step_mse: 0.0071\n",
      "Epoch 18/20\n",
      "219/219 [==============================] - 4s 20ms/step - loss: 0.0192 - last_time_step_mse: 0.0077 - val_loss: 0.0188 - val_last_time_step_mse: 0.0072\n",
      "Epoch 19/20\n",
      "219/219 [==============================] - 4s 19ms/step - loss: 0.0188 - last_time_step_mse: 0.0073 - val_loss: 0.0186 - val_last_time_step_mse: 0.0067\n",
      "Epoch 20/20\n",
      "219/219 [==============================] - 4s 18ms/step - loss: 0.0193 - last_time_step_mse: 0.0077 - val_loss: 0.0191 - val_last_time_step_mse: 0.0075\n"
     ]
    },
    {
     "data": {
      "text/plain": [
       "<tensorflow.python.keras.callbacks.History at 0x7f785d4a3370>"
      ]
     },
     "execution_count": 23,
     "metadata": {},
     "output_type": "execute_result"
    }
   ],
   "source": [
    "model = keras.models.Sequential([\n",
    "    keras.layers.SimpleRNN(20, return_sequences=True, input_shape=[None, 1]),\n",
    "    keras.layers.SimpleRNN(20, return_sequences=True),\n",
    "    keras.layers.TimeDistributed(keras.layers.Dense(10))\n",
    "])\n",
    "\n",
    "def last_time_step_mse(Y_true, Y_pred):\n",
    "    return keras.metrics.mean_squared_error(Y_true[:, -1], Y_pred[:, -1])\n",
    "    \n",
    "model.compile(optimizer=keras.optimizers.Adam(lr=0.01),\n",
    "              loss='mean_squared_error', metrics=[last_time_step_mse])\n",
    "model.fit(X_train, Y_train, epochs=20, validation_data=(X_valid, Y_valid))"
   ]
  },
  {
   "cell_type": "markdown",
   "metadata": {},
   "source": [
    "Tip: When forecasting time series, it is often useful to have some error bars along with your predictions. For this, an efficient technique is MC Dropout: add an MC Dropout layer within each memory cell, dropping part of the inputs and hidden states. After training, to forecast a new time series, use the model many times and compute the mean and standard deviation of the predictions at each time step."
   ]
  },
  {
   "cell_type": "markdown",
   "metadata": {},
   "source": [
    "## Handling Long Sequences"
   ]
  },
  {
   "cell_type": "markdown",
   "metadata": {},
   "source": [
    "### Fighting the unstable gradients problem"
   ]
  },
  {
   "cell_type": "markdown",
   "metadata": {},
   "source": [
    "Batch normalization doesn't work as effectively in RNNs. An alternative is to use Layer normalization which normalizes across the features dimension instead of the batch dimension. Below a custom implementation os a SimpleRNNCell which applies Layer Normalization at each step"
   ]
  },
  {
   "cell_type": "code",
   "execution_count": 24,
   "metadata": {},
   "outputs": [],
   "source": [
    "class LNSimpleRNNCell(keras.layers.Layer):\n",
    "    def __init__(self, units, activation='tanh', **kwargs):\n",
    "        super().__init__(**kwargs)\n",
    "        self.state_size = units\n",
    "        self.output_size = units\n",
    "        self.simple_rnn_cell = keras.layers.SimpleRNNCell(units, activation=None)\n",
    "        self.layer_norm = keras.layers.LayerNormalization()\n",
    "        self.activation = keras.activations.get(activation)\n",
    "        \n",
    "    def call(self, inputs, states):\n",
    "        outputs, new_states = self.simple_rnn_cell(inputs, states)\n",
    "        norm_outputs = self.activation(self.layer_norm(outputs))\n",
    "        return norm_outputs, [norm_outputs]"
   ]
  },
  {
   "cell_type": "code",
   "execution_count": 25,
   "metadata": {},
   "outputs": [
    {
     "data": {
      "text/plain": [
       "Ellipsis"
      ]
     },
     "execution_count": 25,
     "metadata": {},
     "output_type": "execute_result"
    }
   ],
   "source": [
    "model = keras.models.Sequential([\n",
    "    keras.layers.RNN(LNSimpleRNNCell(20), return_sequences=True, input_shape=[None, 1]),\n",
    "    keras.layers.RNN(LNSimpleRNNCell(20), return_sequences=True),\n",
    "    keras.layers.TimeDistributed(keras.layers.Dense(10))\n",
    "])\n",
    "..."
   ]
  },
  {
   "cell_type": "markdown",
   "metadata": {},
   "source": [
    "### LSTM Cells"
   ]
  },
  {
   "cell_type": "markdown",
   "metadata": {},
   "source": [
    "LSTM cells fight the short-term memory problem: Due to the transformations that occur in an RNN, information is lost at each time step. After a while the RNN has virtually no trace of the first input."
   ]
  },
  {
   "cell_type": "markdown",
   "metadata": {},
   "source": [
    "In Keras the ```LSTM``` layer uses an optimized implementation when running on GPU"
   ]
  },
  {
   "cell_type": "code",
   "execution_count": 26,
   "metadata": {
    "scrolled": true
   },
   "outputs": [
    {
     "name": "stdout",
     "output_type": "stream",
     "text": [
      "Epoch 1/20\n",
      "219/219 [==============================] - 10s 46ms/step - loss: 0.0465 - last_time_step_mse: 0.0314 - val_loss: 0.0295 - val_last_time_step_mse: 0.0126\n",
      "Epoch 2/20\n",
      "219/219 [==============================] - 10s 45ms/step - loss: 0.0272 - last_time_step_mse: 0.0117 - val_loss: 0.0246 - val_last_time_step_mse: 0.0089\n",
      "Epoch 3/20\n",
      "219/219 [==============================] - 10s 43ms/step - loss: 0.0216 - last_time_step_mse: 0.0065 - val_loss: 0.0204 - val_last_time_step_mse: 0.0054\n",
      "Epoch 4/20\n",
      "219/219 [==============================] - 10s 46ms/step - loss: 0.0183 - last_time_step_mse: 0.0046 - val_loss: 0.0183 - val_last_time_step_mse: 0.0049\n",
      "Epoch 5/20\n",
      "219/219 [==============================] - 10s 45ms/step - loss: 0.0169 - last_time_step_mse: 0.0043 - val_loss: 0.0168 - val_last_time_step_mse: 0.0037\n",
      "Epoch 6/20\n",
      "219/219 [==============================] - 9s 40ms/step - loss: 0.0160 - last_time_step_mse: 0.0039 - val_loss: 0.0166 - val_last_time_step_mse: 0.0046\n",
      "Epoch 7/20\n",
      "219/219 [==============================] - 9s 40ms/step - loss: 0.0155 - last_time_step_mse: 0.0037 - val_loss: 0.0156 - val_last_time_step_mse: 0.0037\n",
      "Epoch 8/20\n",
      "219/219 [==============================] - 9s 42ms/step - loss: 0.0151 - last_time_step_mse: 0.0037 - val_loss: 0.0150 - val_last_time_step_mse: 0.0029\n",
      "Epoch 9/20\n",
      "219/219 [==============================] - 8s 39ms/step - loss: 0.0148 - last_time_step_mse: 0.0036 - val_loss: 0.0153 - val_last_time_step_mse: 0.0033\n",
      "Epoch 10/20\n",
      "219/219 [==============================] - 9s 39ms/step - loss: 0.0145 - last_time_step_mse: 0.0034 - val_loss: 0.0150 - val_last_time_step_mse: 0.0030\n",
      "Epoch 11/20\n",
      "219/219 [==============================] - 9s 41ms/step - loss: 0.0143 - last_time_step_mse: 0.0033 - val_loss: 0.0149 - val_last_time_step_mse: 0.0032\n",
      "Epoch 12/20\n",
      "219/219 [==============================] - 9s 41ms/step - loss: 0.0141 - last_time_step_mse: 0.0032 - val_loss: 0.0142 - val_last_time_step_mse: 0.0026\n",
      "Epoch 13/20\n",
      "219/219 [==============================] - 9s 40ms/step - loss: 0.0139 - last_time_step_mse: 0.0030 - val_loss: 0.0142 - val_last_time_step_mse: 0.0025\n",
      "Epoch 14/20\n",
      "219/219 [==============================] - 8s 38ms/step - loss: 0.0138 - last_time_step_mse: 0.0030 - val_loss: 0.0138 - val_last_time_step_mse: 0.0027\n",
      "Epoch 15/20\n",
      "219/219 [==============================] - 9s 42ms/step - loss: 0.0137 - last_time_step_mse: 0.0030 - val_loss: 0.0140 - val_last_time_step_mse: 0.0029\n",
      "Epoch 16/20\n",
      "219/219 [==============================] - 9s 40ms/step - loss: 0.0135 - last_time_step_mse: 0.0029 - val_loss: 0.0142 - val_last_time_step_mse: 0.0030\n",
      "Epoch 17/20\n",
      "219/219 [==============================] - 8s 38ms/step - loss: 0.0134 - last_time_step_mse: 0.0029 - val_loss: 0.0141 - val_last_time_step_mse: 0.0030\n",
      "Epoch 18/20\n",
      "219/219 [==============================] - 8s 37ms/step - loss: 0.0134 - last_time_step_mse: 0.0029 - val_loss: 0.0133 - val_last_time_step_mse: 0.0025\n",
      "Epoch 19/20\n",
      "219/219 [==============================] - 8s 38ms/step - loss: 0.0133 - last_time_step_mse: 0.0029 - val_loss: 0.0134 - val_last_time_step_mse: 0.0028\n",
      "Epoch 20/20\n",
      "219/219 [==============================] - 8s 38ms/step - loss: 0.0131 - last_time_step_mse: 0.0027 - val_loss: 0.0132 - val_last_time_step_mse: 0.0023\n"
     ]
    },
    {
     "data": {
      "text/plain": [
       "<tensorflow.python.keras.callbacks.History at 0x7f785c732430>"
      ]
     },
     "execution_count": 26,
     "metadata": {},
     "output_type": "execute_result"
    }
   ],
   "source": [
    "model = keras.models.Sequential([\n",
    "    keras.layers.LSTM(20, return_sequences=True, input_shape=[None, 1]),\n",
    "    keras.layers.LSTM(20, return_sequences=True),\n",
    "    keras.layers.TimeDistributed(keras.layers.Dense(10))\n",
    "])\n",
    "    \n",
    "model.compile(optimizer=keras.optimizers.Adam(lr=0.01),\n",
    "              loss='mean_squared_error', metrics=[last_time_step_mse])\n",
    "model.fit(X_train, Y_train, epochs=20, validation_data=(X_valid, Y_valid))"
   ]
  },
  {
   "cell_type": "markdown",
   "metadata": {},
   "source": [
    "The sigmoid (logistic) layers on a LSTM act as 'soft-gates'. Since their output ranges between 0 and 1, whenever they are applied to another matrix via element-wise multiplication (or addition), they will scale the corresponding weights, diminishing what we want to forget and augmenting what we want to add."
   ]
  },
  {
   "cell_type": "markdown",
   "metadata": {},
   "source": [
    "[Colah's blog on LSTMs](https://colah.github.io/posts/2015-08-Understanding-LSTMs/)"
   ]
  },
  {
   "cell_type": "markdown",
   "metadata": {},
   "source": [
    "[Unreasonable effectiveness of RNNs](https://karpathy.github.io/2015/05/21/rnn-effectiveness/)"
   ]
  },
  {
   "cell_type": "markdown",
   "metadata": {},
   "source": [
    "[Gated Recurrent Units](https://arxiv.org/abs/1406.1078) (GRU's) are a variation of LSTM. They combaine the forget and input gate. Whenever a memory must be stored, the location of storage is completely erased beforehand."
   ]
  },
  {
   "cell_type": "markdown",
   "metadata": {},
   "source": [
    "### Using 1D convolutional Layers to Process Sequences"
   ]
  },
  {
   "cell_type": "code",
   "execution_count": 27,
   "metadata": {
    "scrolled": true
   },
   "outputs": [
    {
     "name": "stdout",
     "output_type": "stream",
     "text": [
      "Epoch 1/20\n",
      "219/219 [==============================] - 6s 29ms/step - loss: 0.0686 - last_time_step_mse: 0.0600 - val_loss: 0.0482 - val_last_time_step_mse: 0.0396\n",
      "Epoch 2/20\n",
      "219/219 [==============================] - 5s 25ms/step - loss: 0.0398 - last_time_step_mse: 0.0329 - val_loss: 0.0353 - val_last_time_step_mse: 0.0265\n",
      "Epoch 3/20\n",
      "219/219 [==============================] - 6s 27ms/step - loss: 0.0310 - last_time_step_mse: 0.0226 - val_loss: 0.0283 - val_last_time_step_mse: 0.0180\n",
      "Epoch 4/20\n",
      "219/219 [==============================] - 5s 25ms/step - loss: 0.0264 - last_time_step_mse: 0.0162 - val_loss: 0.0255 - val_last_time_step_mse: 0.0142\n",
      "Epoch 5/20\n",
      "219/219 [==============================] - 5s 24ms/step - loss: 0.0244 - last_time_step_mse: 0.0137 - val_loss: 0.0241 - val_last_time_step_mse: 0.0128\n",
      "Epoch 6/20\n",
      "219/219 [==============================] - 5s 25ms/step - loss: 0.0231 - last_time_step_mse: 0.0122 - val_loss: 0.0230 - val_last_time_step_mse: 0.0116\n",
      "Epoch 7/20\n",
      "219/219 [==============================] - 5s 24ms/step - loss: 0.0224 - last_time_step_mse: 0.0115 - val_loss: 0.0222 - val_last_time_step_mse: 0.0110\n",
      "Epoch 8/20\n",
      "219/219 [==============================] - 5s 24ms/step - loss: 0.0219 - last_time_step_mse: 0.0111 - val_loss: 0.0219 - val_last_time_step_mse: 0.0109\n",
      "Epoch 9/20\n",
      "219/219 [==============================] - 5s 24ms/step - loss: 0.0215 - last_time_step_mse: 0.0107 - val_loss: 0.0215 - val_last_time_step_mse: 0.0104\n",
      "Epoch 10/20\n",
      "219/219 [==============================] - 5s 24ms/step - loss: 0.0212 - last_time_step_mse: 0.0105 - val_loss: 0.0213 - val_last_time_step_mse: 0.0101\n",
      "Epoch 11/20\n",
      "219/219 [==============================] - 5s 24ms/step - loss: 0.0208 - last_time_step_mse: 0.0101 - val_loss: 0.0209 - val_last_time_step_mse: 0.0096\n",
      "Epoch 12/20\n",
      "219/219 [==============================] - 5s 24ms/step - loss: 0.0206 - last_time_step_mse: 0.0100 - val_loss: 0.0206 - val_last_time_step_mse: 0.0094\n",
      "Epoch 13/20\n",
      "219/219 [==============================] - 5s 24ms/step - loss: 0.0202 - last_time_step_mse: 0.0096 - val_loss: 0.0205 - val_last_time_step_mse: 0.0097\n",
      "Epoch 14/20\n",
      "219/219 [==============================] - 5s 24ms/step - loss: 0.0201 - last_time_step_mse: 0.0095 - val_loss: 0.0205 - val_last_time_step_mse: 0.0098\n",
      "Epoch 15/20\n",
      "219/219 [==============================] - 5s 24ms/step - loss: 0.0199 - last_time_step_mse: 0.0094 - val_loss: 0.0203 - val_last_time_step_mse: 0.0097\n",
      "Epoch 16/20\n",
      "219/219 [==============================] - 5s 25ms/step - loss: 0.0197 - last_time_step_mse: 0.0092 - val_loss: 0.0199 - val_last_time_step_mse: 0.0087\n",
      "Epoch 17/20\n",
      "219/219 [==============================] - 5s 24ms/step - loss: 0.0195 - last_time_step_mse: 0.0089 - val_loss: 0.0198 - val_last_time_step_mse: 0.0090\n",
      "Epoch 18/20\n",
      "219/219 [==============================] - 6s 26ms/step - loss: 0.0194 - last_time_step_mse: 0.0089 - val_loss: 0.0193 - val_last_time_step_mse: 0.0083\n",
      "Epoch 19/20\n",
      "219/219 [==============================] - 6s 26ms/step - loss: 0.0192 - last_time_step_mse: 0.0088 - val_loss: 0.0194 - val_last_time_step_mse: 0.0083\n",
      "Epoch 20/20\n",
      "219/219 [==============================] - 6s 26ms/step - loss: 0.0190 - last_time_step_mse: 0.0085 - val_loss: 0.0194 - val_last_time_step_mse: 0.0086\n"
     ]
    }
   ],
   "source": [
    "model = keras.models.Sequential([\n",
    "    keras.layers.Conv1D(filters=20, kernel_size=4, strides=2, padding=\"valid\",\n",
    "                        input_shape=[None, 1]),\n",
    "    keras.layers.GRU(20, return_sequences=True),\n",
    "    keras.layers.GRU(20, return_sequences=True),\n",
    "    keras.layers.TimeDistributed(keras.layers.Dense(10))\n",
    "])\n",
    "\n",
    "model.compile(loss=\"mse\", optimizer=\"adam\", metrics=[last_time_step_mse])\n",
    "history = model.fit(X_train, Y_train[:, 3::2], epochs=20,\n",
    "                    validation_data=(X_valid, Y_valid[:, 3::2]))"
   ]
  },
  {
   "cell_type": "markdown",
   "metadata": {},
   "source": [
    "### [WaveNet](https://arxiv.org/abs/1609.03499)"
   ]
  },
  {
   "cell_type": "code",
   "execution_count": 28,
   "metadata": {
    "scrolled": true
   },
   "outputs": [
    {
     "name": "stdout",
     "output_type": "stream",
     "text": [
      "Epoch 1/20\n",
      "219/219 [==============================] - 5s 24ms/step - loss: 0.0701 - last_time_step_mse: 0.0599 - val_loss: 0.0365 - val_last_time_step_mse: 0.0230\n",
      "Epoch 2/20\n",
      "219/219 [==============================] - 2s 10ms/step - loss: 0.0324 - last_time_step_mse: 0.0196 - val_loss: 0.0305 - val_last_time_step_mse: 0.0175\n",
      "Epoch 3/20\n",
      "219/219 [==============================] - 2s 10ms/step - loss: 0.0285 - last_time_step_mse: 0.0163 - val_loss: 0.0280 - val_last_time_step_mse: 0.0151\n",
      "Epoch 4/20\n",
      "219/219 [==============================] - 2s 10ms/step - loss: 0.0266 - last_time_step_mse: 0.0145 - val_loss: 0.0262 - val_last_time_step_mse: 0.0135\n",
      "Epoch 5/20\n",
      "219/219 [==============================] - 3s 14ms/step - loss: 0.0253 - last_time_step_mse: 0.0134 - val_loss: 0.0254 - val_last_time_step_mse: 0.0131\n",
      "Epoch 6/20\n",
      "219/219 [==============================] - 3s 12ms/step - loss: 0.0244 - last_time_step_mse: 0.0125 - val_loss: 0.0242 - val_last_time_step_mse: 0.0117\n",
      "Epoch 7/20\n",
      "219/219 [==============================] - 2s 10ms/step - loss: 0.0236 - last_time_step_mse: 0.0119 - val_loss: 0.0242 - val_last_time_step_mse: 0.0121\n",
      "Epoch 8/20\n",
      "219/219 [==============================] - 4s 18ms/step - loss: 0.0230 - last_time_step_mse: 0.0112 - val_loss: 0.0234 - val_last_time_step_mse: 0.0107\n",
      "Epoch 9/20\n",
      "219/219 [==============================] - 3s 12ms/step - loss: 0.0226 - last_time_step_mse: 0.0109 - val_loss: 0.0228 - val_last_time_step_mse: 0.0105\n",
      "Epoch 10/20\n",
      "219/219 [==============================] - 3s 13ms/step - loss: 0.0224 - last_time_step_mse: 0.0107 - val_loss: 0.0225 - val_last_time_step_mse: 0.0101\n",
      "Epoch 11/20\n",
      "219/219 [==============================] - 2s 11ms/step - loss: 0.0221 - last_time_step_mse: 0.0105 - val_loss: 0.0222 - val_last_time_step_mse: 0.0099\n",
      "Epoch 12/20\n",
      "219/219 [==============================] - 3s 13ms/step - loss: 0.0217 - last_time_step_mse: 0.0103 - val_loss: 0.0221 - val_last_time_step_mse: 0.0101\n",
      "Epoch 13/20\n",
      "219/219 [==============================] - 3s 12ms/step - loss: 0.0214 - last_time_step_mse: 0.0100 - val_loss: 0.0222 - val_last_time_step_mse: 0.0102\n",
      "Epoch 14/20\n",
      "219/219 [==============================] - 2s 11ms/step - loss: 0.0214 - last_time_step_mse: 0.0100 - val_loss: 0.0214 - val_last_time_step_mse: 0.0093\n",
      "Epoch 15/20\n",
      "219/219 [==============================] - 2s 10ms/step - loss: 0.0212 - last_time_step_mse: 0.0098 - val_loss: 0.0212 - val_last_time_step_mse: 0.0091\n",
      "Epoch 16/20\n",
      "219/219 [==============================] - 2s 11ms/step - loss: 0.0208 - last_time_step_mse: 0.0094 - val_loss: 0.0211 - val_last_time_step_mse: 0.0089\n",
      "Epoch 17/20\n",
      "219/219 [==============================] - 3s 13ms/step - loss: 0.0207 - last_time_step_mse: 0.0093 - val_loss: 0.0212 - val_last_time_step_mse: 0.0093\n",
      "Epoch 18/20\n",
      "219/219 [==============================] - 2s 11ms/step - loss: 0.0205 - last_time_step_mse: 0.0092 - val_loss: 0.0207 - val_last_time_step_mse: 0.0090\n",
      "Epoch 19/20\n",
      "219/219 [==============================] - 2s 10ms/step - loss: 0.0205 - last_time_step_mse: 0.0092 - val_loss: 0.0207 - val_last_time_step_mse: 0.0084\n",
      "Epoch 20/20\n",
      "219/219 [==============================] - 2s 10ms/step - loss: 0.0202 - last_time_step_mse: 0.0089 - val_loss: 0.0205 - val_last_time_step_mse: 0.0085\n"
     ]
    }
   ],
   "source": [
    "model = keras.models.Sequential()\n",
    "model.add(keras.layers.InputLayer(input_shape=[None, 1]))\n",
    "for rate in (1, 2, 4, 8) * 2:\n",
    "    model.add(keras.layers.Conv1D(filters=20, kernel_size=2, padding=\"causal\",\n",
    "                                  activation=\"relu\", dilation_rate=rate))\n",
    "model.add(keras.layers.Conv1D(filters=10, kernel_size=1))\n",
    "model.compile(loss=\"mse\", optimizer=\"adam\", metrics=[last_time_step_mse])\n",
    "history = model.fit(X_train, Y_train, epochs=20,\n",
    "                    validation_data=(X_valid, Y_valid))"
   ]
  }
 ],
 "metadata": {
  "kernelspec": {
   "display_name": "Python 3",
   "language": "python",
   "name": "python3"
  },
  "language_info": {
   "codemirror_mode": {
    "name": "ipython",
    "version": 3
   },
   "file_extension": ".py",
   "mimetype": "text/x-python",
   "name": "python",
   "nbconvert_exporter": "python",
   "pygments_lexer": "ipython3",
   "version": "3.8.2"
  }
 },
 "nbformat": 4,
 "nbformat_minor": 4
}
