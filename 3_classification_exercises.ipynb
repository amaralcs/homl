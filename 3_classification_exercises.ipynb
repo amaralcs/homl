{
 "cells": [
  {
   "cell_type": "code",
   "execution_count": 72,
   "metadata": {},
   "outputs": [],
   "source": [
    "import time\n",
    "import numpy as np\n",
    "import pandas as pd\n",
    "import matplotlib.pyplot as plt\n",
    "from sklearn.datasets import fetch_openml\n",
    "from sklearn.neighbors import KNeighborsClassifier\n",
    "from sklearn.model_selection import cross_val_predict, GridSearchCV\n",
    "from sklearn.metrics import precision_score, recall_score, f1_score, accuracy_score\n",
    "from sklearn.preprocessing import MinMaxScaler\n",
    "\n",
    "%matplotlib inline\n",
    "plt.style.use('jt')"
   ]
  },
  {
   "cell_type": "code",
   "execution_count": 2,
   "metadata": {},
   "outputs": [],
   "source": [
    "# Use RELOAD=True mode to import pickles and avoid retraining models \n",
    "from joblib import dump, load\n",
    "model_fpath = 'saved_models/3_'\n",
    "RELOAD = True"
   ]
  },
  {
   "cell_type": "markdown",
   "metadata": {},
   "source": [
    "# Exercise 1)\n",
    "Build a classifier for the MNIST dataset tha achieves over 97% accuracy on the test set"
   ]
  },
  {
   "cell_type": "code",
   "execution_count": 3,
   "metadata": {},
   "outputs": [],
   "source": [
    "if RELOAD:\n",
    "    mnist = load(model_fpath+'mnist.joblib')\n",
    "else:\n",
    "    mnist = fetch_openml('mnist_784', version=1)\n",
    "    dump(mnist, model_fpath+'mnist.joblib')\n",
    "\n",
    "X, y = mnist['data'], mnist['target'].astype(np.uint8)"
   ]
  },
  {
   "cell_type": "code",
   "execution_count": 4,
   "metadata": {},
   "outputs": [],
   "source": [
    "# recall data is already shuffled into training and test set\n",
    "X_train, y_train, X_test, y_test = X[:60000], y[:60000], X[60000:], y[60000:]"
   ]
  },
  {
   "cell_type": "markdown",
   "metadata": {},
   "source": [
    "We'll start with a small set and to write the code and then run on the full training set"
   ]
  },
  {
   "cell_type": "code",
   "execution_count": 5,
   "metadata": {},
   "outputs": [],
   "source": [
    "X_train_small, y_train_small = X_train[:5000], y_train[:5000]\n",
    "X_test_small, y_test_small = X_test[:5000], y_test[:5000]"
   ]
  },
  {
   "cell_type": "code",
   "execution_count": 6,
   "metadata": {},
   "outputs": [
    {
     "name": "stderr",
     "output_type": "stream",
     "text": [
      "[Parallel(n_jobs=1)]: Using backend SequentialBackend with 1 concurrent workers.\n",
      "[Parallel(n_jobs=1)]: Done   1 out of   1 | elapsed:    8.5s remaining:    0.0s\n",
      "[Parallel(n_jobs=1)]: Done   3 out of   3 | elapsed:   24.7s finished\n"
     ]
    }
   ],
   "source": [
    "knn_clf = KNeighborsClassifier()\n",
    "knn_preds = cross_val_predict(knn_clf, X_train_small, y_train_small, cv=3, verbose=2)"
   ]
  },
  {
   "cell_type": "code",
   "execution_count": 11,
   "metadata": {},
   "outputs": [],
   "source": [
    "def print_model_scores(y_actual, y_preds, average=None):\n",
    "    precision = precision_score(y_actual, y_preds, average=average)\n",
    "    recall = recall_score(y_actual, y_preds, average=average)\n",
    "    f1 = f1_score(y_actual, y_preds, average=average)\n",
    "    accuracy = accuracy_score(y_actual, y_preds)\n",
    "\n",
    "    print('Model results')\n",
    "    print(f'Accuracy: {accuracy}')\n",
    "    print(f'Precision: {precision}')\n",
    "    print(f'Recall: {recall}')\n",
    "    print(f'F1: {f1}')"
   ]
  },
  {
   "cell_type": "code",
   "execution_count": 8,
   "metadata": {},
   "outputs": [
    {
     "name": "stdout",
     "output_type": "stream",
     "text": [
      "Model results\n",
      "Accuracy: 0.9216\n",
      "Precision: 0.9250926365448813\n",
      "Recall: 0.9200168298628594\n",
      "F1: 0.921287739432865\n"
     ]
    }
   ],
   "source": [
    "print_model_scores(y_train_small, knn_preds, 'macro')"
   ]
  },
  {
   "cell_type": "code",
   "execution_count": 51,
   "metadata": {},
   "outputs": [
    {
     "data": {
      "text/plain": [
       "GridSearchCV(cv=3, error_score='raise-deprecating',\n",
       "             estimator=KNeighborsClassifier(algorithm='auto', leaf_size=30,\n",
       "                                            metric='minkowski',\n",
       "                                            metric_params=None, n_jobs=None,\n",
       "                                            n_neighbors=5, p=2,\n",
       "                                            weights='uniform'),\n",
       "             iid='warn', n_jobs=None,\n",
       "             param_grid=[{'n_neighbors': array([1, 2, 3, 4, 5, 6, 7, 8, 9]),\n",
       "                          'weights': ['uniform', 'distance']}],\n",
       "             pre_dispatch='2*n_jobs', refit=True, return_train_score=False,\n",
       "             scoring=None, verbose=0)"
      ]
     },
     "execution_count": 51,
     "metadata": {},
     "output_type": "execute_result"
    }
   ],
   "source": [
    "param_grid = [\n",
    "    {'weights': ['uniform', 'distance'], 'n_neighbors': np.r_[1:10]}\n",
    "]\n",
    "grid_search = GridSearchCV(knn_clf, param_grid, cv=3)\n",
    "grid_search.fit(X_train_small, y_train_small)"
   ]
  },
  {
   "cell_type": "code",
   "execution_count": 52,
   "metadata": {},
   "outputs": [
    {
     "data": {
      "text/plain": [
       "{'n_neighbors': 4, 'weights': 'distance'}"
      ]
     },
     "execution_count": 52,
     "metadata": {},
     "output_type": "execute_result"
    }
   ],
   "source": [
    "grid_clf = grid_search.best_estimator_\n",
    "grid_search.best_params_"
   ]
  },
  {
   "cell_type": "code",
   "execution_count": 53,
   "metadata": {},
   "outputs": [
    {
     "name": "stdout",
     "output_type": "stream",
     "text": [
      "Model results\n",
      "Precision: 0.9316239364223113\n",
      "Recall: 0.9279879556944662\n",
      "F1: 0.9289948152946156\n"
     ]
    }
   ],
   "source": [
    "grid_preds = cross_val_predict(grid_clf, X_train_small, y_train_small, cv=3)\n",
    "print_model_scores(y_train_small, grid_preds, 'macro')"
   ]
  },
  {
   "cell_type": "markdown",
   "metadata": {},
   "source": [
    "Grid search on this model trained with a small sample slightly improved results and yields n_neighbours = 4. With this, I can reduce the search space for n_neighbors to say range(3, 6) for the full dataset to save some time during training as the full dataset is very large"
   ]
  },
  {
   "cell_type": "code",
   "execution_count": 55,
   "metadata": {},
   "outputs": [
    {
     "name": "stdout",
     "output_type": "stream",
     "text": [
      "Initiating GridSearch\n",
      "GridSearch complete in 568.43 minutes\n"
     ]
    },
    {
     "ename": "AttributeError",
     "evalue": "'GridSearchCV' object has no attribute 'best_estimator'",
     "output_type": "error",
     "traceback": [
      "\u001b[0;31m---------------------------------------------------------------------------\u001b[0m",
      "\u001b[0;31mAttributeError\u001b[0m                            Traceback (most recent call last)",
      "\u001b[0;32m<ipython-input-55-694fdb3bc841>\u001b[0m in \u001b[0;36m<module>\u001b[0;34m\u001b[0m\n\u001b[1;32m      8\u001b[0m \u001b[0mprint\u001b[0m\u001b[0;34m(\u001b[0m\u001b[0;34mf'GridSearch complete in {(time.time()-start_time)/60.0:.2f} minutes'\u001b[0m\u001b[0;34m)\u001b[0m\u001b[0;34m\u001b[0m\u001b[0;34m\u001b[0m\u001b[0m\n\u001b[1;32m      9\u001b[0m \u001b[0;34m\u001b[0m\u001b[0m\n\u001b[0;32m---> 10\u001b[0;31m \u001b[0mgrid_clf\u001b[0m \u001b[0;34m=\u001b[0m \u001b[0mgrid_search\u001b[0m\u001b[0;34m.\u001b[0m\u001b[0mbest_estimator\u001b[0m\u001b[0;34m\u001b[0m\u001b[0;34m\u001b[0m\u001b[0m\n\u001b[0m\u001b[1;32m     11\u001b[0m \u001b[0mprint\u001b[0m\u001b[0;34m(\u001b[0m\u001b[0;34mf'Found best params {grid_search.best_params}'\u001b[0m\u001b[0;34m)\u001b[0m\u001b[0;34m\u001b[0m\u001b[0;34m\u001b[0m\u001b[0m\n\u001b[1;32m     12\u001b[0m \u001b[0;34m\u001b[0m\u001b[0m\n",
      "\u001b[0;31mAttributeError\u001b[0m: 'GridSearchCV' object has no attribute 'best_estimator'"
     ]
    }
   ],
   "source": [
    "# Grid Search for full dataset\n",
    "if RELOAD:\n",
    "    grid_search = load(model_fpath + 'ex1_knn.joblib')\n",
    "else:\n",
    "    start_time = time.time()\n",
    "    param_grid = [{'weights':['uniform', 'distance'], 'n_neighbors':np.r_[3:7]}]\n",
    "    print(\"Initiating GridSearch\")\n",
    "    grid_search = GridSearchCV(knn_clf, param_grid, cv=5)\n",
    "    grid_search.fit(X_train, y_train)\n",
    "    print(f'GridSearch complete in {(time.time()-start_time)/60.0:.2f} minutes')\n",
    "    dump(grid_search, model_fpath+'ex1_knn.joblib')"
   ]
  },
  {
   "cell_type": "code",
   "execution_count": 57,
   "metadata": {},
   "outputs": [
    {
     "name": "stdout",
     "output_type": "stream",
     "text": [
      "Found best params {'n_neighbors': 4, 'weights': 'distance'}\n",
      "Initiating CrossValPredict on training set\n",
      "Validation completed in 800.63 minutes\n",
      "Model results\n",
      "Precision: [0.97985012 0.96184739 0.98721934 0.96971193 0.97932233 0.96290829\n",
      " 0.97712855 0.96174433 0.97943123 0.94711618]\n",
      "Recall: [0.9934155  0.99466034 0.95938234 0.96085467 0.9647381  0.96255303\n",
      " 0.98901656 0.97509976 0.93590839 0.96335519]\n",
      "F1: [0.98658618 0.97797871 0.9731018  0.96526299 0.97197551 0.96273063\n",
      " 0.98303661 0.968376   0.95717532 0.95516667]\n"
     ]
    }
   ],
   "source": [
    "start_time = time.time()\n",
    "grid_clf = grid_search.best_estimator_\n",
    "print(f'Found best params {grid_search.best_params_}')\n",
    "\n",
    "print(f'Initiating CrossValPredict on training set')\n",
    "grid_preds = cross_val_predict(grid_clf, X_train, y_train, cv=3)\n",
    "print(f'Validation completed in {(time.time()-start_time)/60.0:.2f} minutes')\n",
    "print_model_scores(y_train, grid_preds, average='macro')"
   ]
  },
  {
   "cell_type": "code",
   "execution_count": 75,
   "metadata": {},
   "outputs": [],
   "source": [
    "test_set_preds = cross_val_predict(grid_clf, X_test, y_test, cv=3)"
   ]
  },
  {
   "cell_type": "code",
   "execution_count": 76,
   "metadata": {},
   "outputs": [
    {
     "name": "stdout",
     "output_type": "stream",
     "text": [
      "Model results\n",
      "Precision: 0.9421027040033261\n",
      "Recall: 0.9402735042228934\n",
      "F1: 0.9407514123508827\n"
     ]
    }
   ],
   "source": [
    "print_model_scores(y_test, test_set_preds, average='macro')"
   ]
  },
  {
   "cell_type": "markdown",
   "metadata": {},
   "source": [
    "Model is slightly overfitting the train set. Perhaps scaling can help. Since we found the best parameters, there's no need to continue with the gridsearch, but just in case I will perform another gridsearch on the smaller to check if the scaling affects the model parameters"
   ]
  },
  {
   "cell_type": "code",
   "execution_count": 26,
   "metadata": {},
   "outputs": [
    {
     "data": {
      "text/plain": [
       "(array([0.10957143, 0.12503175, 0.11095238, 0.11334921, 0.10831746,\n",
       "        0.10020635, 0.10914286, 0.1157619 , 0.10833333, 0.11044444]),\n",
       " array([0. , 0.9, 1.8, 2.7, 3.6, 4.5, 5.4, 6.3, 7.2, 8.1, 9. ]),\n",
       " <a list of 10 Patch objects>)"
      ]
     },
     "execution_count": 26,
     "metadata": {},
     "output_type": "execute_result"
    },
    {
     "data": {
      "image/png": "[encoded data removed]",
      "text/plain": [
       "<Figure size 576x396 with 1 Axes>"
      ]
     },
     "metadata": {},
     "output_type": "display_data"
    }
   ],
   "source": [
    "plt.hist(y, density=True, alpha=0.8)\n",
    "plt.show()"
   ]
  },
  {
   "cell_type": "markdown",
   "metadata": {},
   "source": [
    "Looks like the numbers are somewhat uniformly distributed. What if we apply normalisation instead of Standardisation?"
   ]
  },
  {
   "cell_type": "code",
   "execution_count": 29,
   "metadata": {},
   "outputs": [
    {
     "name": "stdout",
     "output_type": "stream",
     "text": [
      "Initializing small scale grid search\n",
      "Done in 7.10 minutes\n",
      "Found best parameters: {'n_neighbors': 4, 'weights': 'distance'}\n",
      "Performing predictions on training set...\n",
      "Done in 0.38 minutes\n",
      "Small scale training set predictions\n",
      "Model results\n",
      "Precision: 0.9318254917568485\n",
      "Recall: 0.9281655755878944\n",
      "F1: 0.9291717352860764\n",
      "Performing predictions on test set...\n",
      "Done in 0.39 minutes\n",
      "Small scale test set predictions\n",
      "Model results\n",
      "Precision: 0.9208179213265941\n",
      "Recall: 0.91791024337353\n",
      "F1: 0.9183627833232635\n"
     ]
    }
   ],
   "source": [
    "small_scale_knn = KNeighborsClassifier()\n",
    "scaler = MinMaxScaler()\n",
    "X_train_small_scaled = scaler.fit_transform(X_train_small)\n",
    "X_test_small_scaled = scaler.fit_transform(X_test_small)\n",
    "\n",
    "start_time = time.time()\n",
    "print(f'Initializing small scale grid search')\n",
    "scaled_grid_params = [{\n",
    "    'weights':['uniform', 'distance'], 'n_neighbors':np.r_[1:10]\n",
    "}]\n",
    "scaled_gs = GridSearchCV(small_scale_knn, scaled_grid_params, cv=3)\n",
    "scaled_gs.fit(X_train_small_scaled, y_train_small)\n",
    "print(f'Done in {(time.time() - start_time)/60.0 :.2f} minutes')\n",
    "print(f'Found best parameters: {scaled_gs.best_params_}')\n",
    "best_small_scaled = scaled_gs.best_estimator_\n",
    "\n",
    "start_time = time.time()\n",
    "print(f'Performing predictions on training set...')\n",
    "small_scaled_train_pred = cross_val_predict(best_small_scaled, \n",
    "                                            X_train_small_scaled, y_train_small, cv=3)\n",
    "print(f'Done in {(time.time() - start_time)/60.0 :.2f} minutes')\n",
    "print(f'Small scale training set predictions')\n",
    "print_model_scores(y_train_small, small_scaled_train_pred, average='macro')\n",
    "\n",
    "start_time = time.time()\n",
    "print(f'Performing predictions on test set...')\n",
    "small_scaled_test_pred = cross_val_predict(best_small_scaled, \n",
    "                                           X_test_small_scaled, y_test_small, cv=3)\n",
    "print(f'Done in {(time.time() - start_time)/60.0 :.2f} minutes')\n",
    "print(f'Small scale test set predictions')\n",
    "print_model_scores(y_test_small, small_scaled_test_pred, average='macro')"
   ]
  },
  {
   "cell_type": "markdown",
   "metadata": {},
   "source": [
    "Looks like MinMaxScaling helps! Let's use this and the best parameters to create our predictor."
   ]
  },
  {
   "cell_type": "code",
   "execution_count": 5,
   "metadata": {},
   "outputs": [],
   "source": [
    "scaler = MinMaxScaler()\n",
    "X_train_scaled = scaler.fit_transform(X_train)\n",
    "X_test_scaled = scaler.fit_transform(X_test)"
   ]
  },
  {
   "cell_type": "code",
   "execution_count": 13,
   "metadata": {},
   "outputs": [
    {
     "ename": "NameError",
     "evalue": "name 'scaled_gs' is not defined",
     "output_type": "error",
     "traceback": [
      "\u001b[0;31m---------------------------------------------------------------------------\u001b[0m",
      "\u001b[0;31mNameError\u001b[0m                                 Traceback (most recent call last)",
      "\u001b[0;32m<ipython-input-13-dc8cf6483182>\u001b[0m in \u001b[0;36m<module>\u001b[0;34m\u001b[0m\n\u001b[0;32m----> 1\u001b[0;31m \u001b[0mweights\u001b[0m \u001b[0;34m=\u001b[0m \u001b[0mscaled_gs\u001b[0m\u001b[0;34m.\u001b[0m\u001b[0mbest_params_\u001b[0m\u001b[0;34m[\u001b[0m\u001b[0;34m'weights'\u001b[0m\u001b[0;34m]\u001b[0m\u001b[0;34m\u001b[0m\u001b[0;34m\u001b[0m\u001b[0m\n\u001b[0m\u001b[1;32m      2\u001b[0m \u001b[0mn_neighbors\u001b[0m \u001b[0;34m=\u001b[0m \u001b[0mscaled_gs\u001b[0m\u001b[0;34m.\u001b[0m\u001b[0mbest_params_\u001b[0m\u001b[0;34m[\u001b[0m\u001b[0;34m'n_neighbors'\u001b[0m\u001b[0;34m]\u001b[0m\u001b[0;34m\u001b[0m\u001b[0;34m\u001b[0m\u001b[0m\n\u001b[1;32m      3\u001b[0m \u001b[0;34m\u001b[0m\u001b[0m\n\u001b[1;32m      4\u001b[0m \u001b[0mknn_clf\u001b[0m \u001b[0;34m=\u001b[0m \u001b[0mKNeighborsClassifier\u001b[0m\u001b[0;34m(\u001b[0m\u001b[0mn_neighbors\u001b[0m\u001b[0;34m=\u001b[0m\u001b[0mn_neighbors\u001b[0m\u001b[0;34m,\u001b[0m \u001b[0mweights\u001b[0m\u001b[0;34m=\u001b[0m\u001b[0mweights\u001b[0m\u001b[0;34m)\u001b[0m\u001b[0;34m\u001b[0m\u001b[0;34m\u001b[0m\u001b[0m\n",
      "\u001b[0;31mNameError\u001b[0m: name 'scaled_gs' is not defined"
     ]
    }
   ],
   "source": [
    "weights = scaled_gs.best_params_['weights'] # distance\n",
    "n_neighbors = scaled_gs.best_params_['n_neighbors'] # 4\n",
    "\n",
    "knn_clf = KNeighborsClassifier(n_neighbors=n_neighbors, weights=weights)"
   ]
  },
  {
   "cell_type": "code",
   "execution_count": 41,
   "metadata": {},
   "outputs": [
    {
     "name": "stdout",
     "output_type": "stream",
     "text": [
      "Fitting to training set...\n",
      "Done in 0.25 minutes\n"
     ]
    }
   ],
   "source": [
    "start_time = time.time()\n",
    "print(f'Fitting to training set...')\n",
    "knn_clf.fit(X_train_scaled, y_train)\n",
    "print(f'Done in {(time.time() - start_time)/60.0 :.2f} minutes')"
   ]
  },
  {
   "cell_type": "code",
   "execution_count": 43,
   "metadata": {},
   "outputs": [
    {
     "name": "stdout",
     "output_type": "stream",
     "text": [
      "Predicting test set...\n",
      "Done in 13.21 minutes\n"
     ]
    }
   ],
   "source": [
    "start_time = time.time()\n",
    "print(f'Predicting test set...')\n",
    "y_preds = knn_clf.predict(X_test_scaled)\n",
    "print(f'Done in {(time.time() - start_time)/60.0 :.2f} minutes')"
   ]
  },
  {
   "cell_type": "code",
   "execution_count": 54,
   "metadata": {},
   "outputs": [
    {
     "name": "stdout",
     "output_type": "stream",
     "text": [
      "Model results\n",
      "Accuracy: 0.9714\n",
      "Precision: 0.9715597201945959\n",
      "Recall: 0.9710823052664403\n",
      "F1: 0.971224084176584\n"
     ]
    }
   ],
   "source": [
    "print_model_scores(y_test, y_preds, average='macro')"
   ]
  },
  {
   "cell_type": "markdown",
   "metadata": {},
   "source": [
    "Done!"
   ]
  },
  {
   "cell_type": "markdown",
   "metadata": {},
   "source": [
    "# Exercise 2)\n",
    "Create a function that can shift an MNIST image in any direction. Then for each image in the training set, create four shifted copies and add them to the training set. Re-train the model and measure its accuracy"
   ]
  },
  {
   "cell_type": "code",
   "execution_count": 83,
   "metadata": {},
   "outputs": [
    {
     "data": {
      "text/plain": [
       "array([[1, 2, 3, 4, 5],\n",
       "       [1, 2, 3, 4, 5],\n",
       "       [1, 2, 3, 4, 5],\n",
       "       [1, 2, 3, 4, 5],\n",
       "       [1, 2, 3, 4, 5]])"
      ]
     },
     "execution_count": 83,
     "metadata": {},
     "output_type": "execute_result"
    }
   ],
   "source": [
    "test = np.ones((5,5), dtype='uint8') * np.r_[1:6]\n",
    "test"
   ]
  },
  {
   "cell_type": "code",
   "execution_count": 87,
   "metadata": {},
   "outputs": [
    {
     "data": {
      "text/plain": [
       "array([[0, 1, 2, 3, 4],\n",
       "       [0, 1, 2, 3, 4],\n",
       "       [0, 1, 2, 3, 4],\n",
       "       [0, 1, 2, 3, 4],\n",
       "       [0, 1, 2, 3, 4]])"
      ]
     },
     "execution_count": 87,
     "metadata": {},
     "output_type": "execute_result"
    }
   ],
   "source": [
    "shift(test, [0,1]) # shifts col to right"
   ]
  },
  {
   "cell_type": "code",
   "execution_count": 85,
   "metadata": {},
   "outputs": [
    {
     "data": {
      "text/plain": [
       "array([[0, 0, 0, 0, 0],\n",
       "       [1, 2, 3, 4, 5],\n",
       "       [1, 2, 3, 4, 5],\n",
       "       [1, 2, 3, 4, 5],\n",
       "       [1, 2, 3, 4, 5]])"
      ]
     },
     "execution_count": 85,
     "metadata": {},
     "output_type": "execute_result"
    }
   ],
   "source": [
    "shift(test, [1,0]) # shifts row down"
   ]
  },
  {
   "cell_type": "code",
   "execution_count": 6,
   "metadata": {},
   "outputs": [],
   "source": [
    "from scipy.ndimage import shift\n",
    "\n",
    "def create_shifted_samples(arr, shift_size=1):\n",
    "    original_shape = arr.shape\n",
    "    img_shape = (28,28)\n",
    "    right_shift = np.array([0,0,1]) * shift_size\n",
    "    down_shift = np.array([0,1,0]) * shift_size\n",
    "    left_shift, up_shift = -1*right_shift, -1*down_shift\n",
    "    \n",
    "    shaped_arr = np.apply_along_axis(np.reshape, 1, arr, img_shape)\n",
    "    right_shifted = shift(shaped_arr, right_shift).reshape(original_shape)\n",
    "    down_shifted = shift(shaped_arr, down_shift).reshape(original_shape)\n",
    "    left_shifted = shift(shaped_arr, left_shift).reshape(original_shape)\n",
    "    up_shifted = shift(shaped_arr, up_shift).reshape(original_shape)\n",
    "    \n",
    "    return np.r_[right_shifted, down_shifted, left_shifted, up_shifted]"
   ]
  },
  {
   "cell_type": "code",
   "execution_count": 7,
   "metadata": {},
   "outputs": [],
   "source": [
    "shifted_train_set = create_shifted_samples(X_train_scaled)\n",
    "X_train_scaled_shifted = np.r_[X_train_scaled, shifted_train_set]"
   ]
  },
  {
   "cell_type": "code",
   "execution_count": null,
   "metadata": {},
   "outputs": [],
   "source": [
    "# X_test_scaled_shifted = create_shifted_samples(X_test_scaled)\n",
    "# X_test_scaled_shifted = np.r_[X_test_scaled, X_test_scaled_shifted]"
   ]
  },
  {
   "cell_type": "code",
   "execution_count": 8,
   "metadata": {},
   "outputs": [],
   "source": [
    "y_train_shifted = np.tile(y_train, 5)\n",
    "# y_test_shifted = np.tile(y_test, 5)"
   ]
  },
  {
   "cell_type": "code",
   "execution_count": 237,
   "metadata": {},
   "outputs": [
    {
     "data": {
      "text/plain": [
       "True"
      ]
     },
     "execution_count": 237,
     "metadata": {},
     "output_type": "execute_result"
    }
   ],
   "source": [
    "# Check that there are the same number of observations in X and y\n",
    "# X_train_scaled_shifted.shape[0] == y_train_shifted.shape[0]"
   ]
  },
  {
   "cell_type": "code",
   "execution_count": 9,
   "metadata": {},
   "outputs": [
    {
     "name": "stdout",
     "output_type": "stream",
     "text": [
      "Fitting to training set...\n",
      "Done in 0.84 minutes\n"
     ]
    }
   ],
   "source": [
    "n_neighbors = 4\n",
    "weights = 'distance'\n",
    "\n",
    "shifted_knn_clf = KNeighborsClassifier(n_neighbors=n_neighbors, weights=weights)\n",
    "\n",
    "start_time = time.time()\n",
    "print(f'Fitting to training set...')\n",
    "shifted_knn_clf.fit(X_train_scaled_shifted, y_train_shifted)\n",
    "print(f'Done in {(time.time() - start_time)/60.0 :.2f} minutes')"
   ]
  },
  {
   "cell_type": "code",
   "execution_count": 10,
   "metadata": {},
   "outputs": [
    {
     "name": "stdout",
     "output_type": "stream",
     "text": [
      "Predicting test set...\n",
      "Done in 69.92 minutes\n"
     ]
    },
    {
     "ename": "NameError",
     "evalue": "name 'print_model_scores' is not defined",
     "output_type": "error",
     "traceback": [
      "\u001b[0;31m---------------------------------------------------------------------------\u001b[0m",
      "\u001b[0;31mNameError\u001b[0m                                 Traceback (most recent call last)",
      "\u001b[0;32m<ipython-input-10-5e614fb02182>\u001b[0m in \u001b[0;36m<module>\u001b[0;34m\u001b[0m\n\u001b[1;32m      4\u001b[0m \u001b[0mprint\u001b[0m\u001b[0;34m(\u001b[0m\u001b[0;34mf'Done in {(time.time() - start_time)/60.0 :.2f} minutes'\u001b[0m\u001b[0;34m)\u001b[0m\u001b[0;34m\u001b[0m\u001b[0;34m\u001b[0m\u001b[0m\n\u001b[1;32m      5\u001b[0m \u001b[0;34m\u001b[0m\u001b[0m\n\u001b[0;32m----> 6\u001b[0;31m \u001b[0mprint_model_scores\u001b[0m\u001b[0;34m(\u001b[0m\u001b[0my_test\u001b[0m\u001b[0;34m,\u001b[0m \u001b[0my_preds\u001b[0m\u001b[0;34m,\u001b[0m \u001b[0maverage\u001b[0m\u001b[0;34m=\u001b[0m\u001b[0;34m'macro'\u001b[0m\u001b[0;34m)\u001b[0m\u001b[0;34m\u001b[0m\u001b[0;34m\u001b[0m\u001b[0m\n\u001b[0m",
      "\u001b[0;31mNameError\u001b[0m: name 'print_model_scores' is not defined"
     ]
    }
   ],
   "source": [
    "start_time = time.time()\n",
    "print(f'Predicting test set...')\n",
    "y_preds = shifted_knn_clf.predict(X_test_scaled)\n",
    "print(f'Done in {(time.time() - start_time)/60.0 :.2f} minutes')\n",
    "\n"
   ]
  },
  {
   "cell_type": "code",
   "execution_count": 12,
   "metadata": {},
   "outputs": [
    {
     "name": "stdout",
     "output_type": "stream",
     "text": [
      "Model results\n",
      "Accuracy: 0.9764\n",
      "Precision: 0.9767313811568235\n",
      "Recall: 0.9761507279337562\n",
      "F1: 0.97636443628852\n"
     ]
    }
   ],
   "source": [
    "print_model_scores(y_test, y_preds, average='macro')"
   ]
  },
  {
   "cell_type": "markdown",
   "metadata": {},
   "source": [
    "Slight gains"
   ]
  },
  {
   "cell_type": "markdown",
   "metadata": {},
   "source": [
    "# 3) Tackle the titanic dataset\n",
    "I'll keep this attempt simple and short so I don't spend too much time on it for now"
   ]
  },
  {
   "cell_type": "code",
   "execution_count": 15,
   "metadata": {},
   "outputs": [],
   "source": [
    "titanic_fpath = 'datasets/titanic/train.csv'\n",
    "test_set_fpath = 'datasets/titanic/test.csv'\n",
    "test_df = pd.read_csv(test_set_fpath)\n",
    "df = pd.read_csv(titanic_fpath)"
   ]
  },
  {
   "cell_type": "code",
   "execution_count": 73,
   "metadata": {
    "cell_style": "split"
   },
   "outputs": [
    {
     "data": {
      "image/png": "[encoded data removed]",
      "text/plain": [
       "<Figure size 800x560 with 1 Axes>"
      ]
     },
     "metadata": {
      "needs_background": "dark"
     },
     "output_type": "display_data"
    }
   ],
   "source": [
    "df['Pclass'].hist(density=True)\n",
    "plt.show()"
   ]
  },
  {
   "cell_type": "code",
   "execution_count": 74,
   "metadata": {
    "cell_style": "split"
   },
   "outputs": [
    {
     "data": {
      "image/png": "[encoded data removed]",
      "text/plain": [
       "<Figure size 800x560 with 1 Axes>"
      ]
     },
     "metadata": {
      "needs_background": "dark"
     },
     "output_type": "display_data"
    }
   ],
   "source": [
    "test_df['Pclass'].hist(density=True)\n",
    "plt.show()"
   ]
  },
  {
   "cell_type": "code",
   "execution_count": 75,
   "metadata": {
    "cell_style": "split"
   },
   "outputs": [
    {
     "data": {
      "image/png": "[encoded data removed]",
      "text/plain": [
       "<Figure size 800x560 with 1 Axes>"
      ]
     },
     "metadata": {
      "needs_background": "dark"
     },
     "output_type": "display_data"
    }
   ],
   "source": [
    "df['Sex'].hist(density=True)\n",
    "plt.show()"
   ]
  },
  {
   "cell_type": "code",
   "execution_count": 76,
   "metadata": {
    "cell_style": "split"
   },
   "outputs": [
    {
     "data": {
      "image/png": "[encoded data removed]",
      "text/plain": [
       "<Figure size 800x560 with 1 Axes>"
      ]
     },
     "metadata": {
      "needs_background": "dark"
     },
     "output_type": "display_data"
    }
   ],
   "source": [
    "test_df['Sex'].hist(density=True)\n",
    "plt.show()"
   ]
  },
  {
   "cell_type": "markdown",
   "metadata": {},
   "source": [
    "From the quick plots above, it looks like the train and test set have already been stratified, let's make the assumption that it has"
   ]
  },
  {
   "cell_type": "code",
   "execution_count": 6,
   "metadata": {},
   "outputs": [
    {
     "data": {
      "text/html": [
       "<div>\n",
       "<style scoped>\n",
       "    .dataframe tbody tr th:only-of-type {\n",
       "        vertical-align: middle;\n",
       "    }\n",
       "\n",
       "    .dataframe tbody tr th {\n",
       "        vertical-align: top;\n",
       "    }\n",
       "\n",
       "    .dataframe thead th {\n",
       "        text-align: right;\n",
       "    }\n",
       "</style>\n",
       "<table border=\"1\" class=\"dataframe\">\n",
       "  <thead>\n",
       "    <tr style=\"text-align: right;\">\n",
       "      <th></th>\n",
       "      <th>PassengerId</th>\n",
       "      <th>Survived</th>\n",
       "      <th>Pclass</th>\n",
       "      <th>Name</th>\n",
       "      <th>Sex</th>\n",
       "      <th>Age</th>\n",
       "      <th>SibSp</th>\n",
       "      <th>Parch</th>\n",
       "      <th>Ticket</th>\n",
       "      <th>Fare</th>\n",
       "      <th>Cabin</th>\n",
       "      <th>Embarked</th>\n",
       "    </tr>\n",
       "  </thead>\n",
       "  <tbody>\n",
       "    <tr>\n",
       "      <th>0</th>\n",
       "      <td>1</td>\n",
       "      <td>0</td>\n",
       "      <td>3</td>\n",
       "      <td>Braund, Mr. Owen Harris</td>\n",
       "      <td>male</td>\n",
       "      <td>22.0</td>\n",
       "      <td>1</td>\n",
       "      <td>0</td>\n",
       "      <td>A/5 21171</td>\n",
       "      <td>7.2500</td>\n",
       "      <td>NaN</td>\n",
       "      <td>S</td>\n",
       "    </tr>\n",
       "    <tr>\n",
       "      <th>1</th>\n",
       "      <td>2</td>\n",
       "      <td>1</td>\n",
       "      <td>1</td>\n",
       "      <td>Cumings, Mrs. John Bradley (Florence Briggs Th...</td>\n",
       "      <td>female</td>\n",
       "      <td>38.0</td>\n",
       "      <td>1</td>\n",
       "      <td>0</td>\n",
       "      <td>PC 17599</td>\n",
       "      <td>71.2833</td>\n",
       "      <td>C85</td>\n",
       "      <td>C</td>\n",
       "    </tr>\n",
       "    <tr>\n",
       "      <th>2</th>\n",
       "      <td>3</td>\n",
       "      <td>1</td>\n",
       "      <td>3</td>\n",
       "      <td>Heikkinen, Miss. Laina</td>\n",
       "      <td>female</td>\n",
       "      <td>26.0</td>\n",
       "      <td>0</td>\n",
       "      <td>0</td>\n",
       "      <td>STON/O2. 3101282</td>\n",
       "      <td>7.9250</td>\n",
       "      <td>NaN</td>\n",
       "      <td>S</td>\n",
       "    </tr>\n",
       "    <tr>\n",
       "      <th>3</th>\n",
       "      <td>4</td>\n",
       "      <td>1</td>\n",
       "      <td>1</td>\n",
       "      <td>Futrelle, Mrs. Jacques Heath (Lily May Peel)</td>\n",
       "      <td>female</td>\n",
       "      <td>35.0</td>\n",
       "      <td>1</td>\n",
       "      <td>0</td>\n",
       "      <td>113803</td>\n",
       "      <td>53.1000</td>\n",
       "      <td>C123</td>\n",
       "      <td>S</td>\n",
       "    </tr>\n",
       "    <tr>\n",
       "      <th>4</th>\n",
       "      <td>5</td>\n",
       "      <td>0</td>\n",
       "      <td>3</td>\n",
       "      <td>Allen, Mr. William Henry</td>\n",
       "      <td>male</td>\n",
       "      <td>35.0</td>\n",
       "      <td>0</td>\n",
       "      <td>0</td>\n",
       "      <td>373450</td>\n",
       "      <td>8.0500</td>\n",
       "      <td>NaN</td>\n",
       "      <td>S</td>\n",
       "    </tr>\n",
       "  </tbody>\n",
       "</table>\n",
       "</div>"
      ],
      "text/plain": [
       "   PassengerId  Survived  Pclass  \\\n",
       "0            1         0       3   \n",
       "1            2         1       1   \n",
       "2            3         1       3   \n",
       "3            4         1       1   \n",
       "4            5         0       3   \n",
       "\n",
       "                                                Name     Sex   Age  SibSp  \\\n",
       "0                            Braund, Mr. Owen Harris    male  22.0      1   \n",
       "1  Cumings, Mrs. John Bradley (Florence Briggs Th...  female  38.0      1   \n",
       "2                             Heikkinen, Miss. Laina  female  26.0      0   \n",
       "3       Futrelle, Mrs. Jacques Heath (Lily May Peel)  female  35.0      1   \n",
       "4                           Allen, Mr. William Henry    male  35.0      0   \n",
       "\n",
       "   Parch            Ticket     Fare Cabin Embarked  \n",
       "0      0         A/5 21171   7.2500   NaN        S  \n",
       "1      0          PC 17599  71.2833   C85        C  \n",
       "2      0  STON/O2. 3101282   7.9250   NaN        S  \n",
       "3      0            113803  53.1000  C123        S  \n",
       "4      0            373450   8.0500   NaN        S  "
      ]
     },
     "execution_count": 6,
     "metadata": {},
     "output_type": "execute_result"
    }
   ],
   "source": [
    "df.head()"
   ]
  },
  {
   "cell_type": "code",
   "execution_count": 14,
   "metadata": {
    "cell_style": "split"
   },
   "outputs": [
    {
     "name": "stdout",
     "output_type": "stream",
     "text": [
      "<class 'pandas.core.frame.DataFrame'>\n",
      "RangeIndex: 891 entries, 0 to 890\n",
      "Data columns (total 12 columns):\n",
      "PassengerId    891 non-null int64\n",
      "Survived       891 non-null int64\n",
      "Pclass         891 non-null int64\n",
      "Name           891 non-null object\n",
      "Sex            891 non-null object\n",
      "Age            714 non-null float64\n",
      "SibSp          891 non-null int64\n",
      "Parch          891 non-null int64\n",
      "Ticket         891 non-null object\n",
      "Fare           891 non-null float64\n",
      "Cabin          204 non-null object\n",
      "Embarked       889 non-null object\n",
      "dtypes: float64(2), int64(5), object(5)\n",
      "memory usage: 83.7+ KB\n"
     ]
    }
   ],
   "source": [
    "df.info()"
   ]
  },
  {
   "cell_type": "code",
   "execution_count": 27,
   "metadata": {
    "cell_style": "split"
   },
   "outputs": [
    {
     "data": {
      "text/plain": [
       "count    714.000000\n",
       "mean      29.699118\n",
       "std       14.526497\n",
       "min        0.420000\n",
       "25%       20.125000\n",
       "50%       28.000000\n",
       "75%       38.000000\n",
       "max       80.000000\n",
       "Name: Age, dtype: float64"
      ]
     },
     "execution_count": 27,
     "metadata": {},
     "output_type": "execute_result"
    }
   ],
   "source": [
    "df['Age'].describe()"
   ]
  },
  {
   "cell_type": "markdown",
   "metadata": {},
   "source": [
    "Some Age values are missing, let's pick the columns we need and apply transformations. "
   ]
  },
  {
   "cell_type": "code",
   "execution_count": 130,
   "metadata": {},
   "outputs": [],
   "source": [
    "num_cols = ['Age', 'SibSp', 'Parch']\n",
    "cat_cols = ['Pclass', 'Sex']\n",
    "\n",
    "num_attribs = df[num_cols]\n",
    "cat_attribs = df[cat_cols]\n",
    "\n",
    "X_train_df = df[num_cols + cat_cols]\n",
    "y_train_df = df['Survived'].copy()\n",
    "\n",
    "X_test_df = test_df[num_cols + cat_cols]"
   ]
  },
  {
   "cell_type": "markdown",
   "metadata": {},
   "source": [
    "Preprocessing stage"
   ]
  },
  {
   "cell_type": "code",
   "execution_count": 138,
   "metadata": {},
   "outputs": [
    {
     "data": {
      "text/plain": [
       "(891, 8)"
      ]
     },
     "execution_count": 138,
     "metadata": {},
     "output_type": "execute_result"
    }
   ],
   "source": [
    "from sklearn.pipeline import Pipeline\n",
    "from sklearn.compose import ColumnTransformer\n",
    "from sklearn.impute import SimpleImputer\n",
    "from sklearn.preprocessing import MinMaxScaler, StandardScaler, OneHotEncoder\n",
    "\n",
    "num_pipeline = Pipeline([\n",
    "    ('imputer', SimpleImputer(strategy='mean')),\n",
    "    ('scaler', MinMaxScaler())\n",
    "])\n",
    "\n",
    "prep_pipeline = ColumnTransformer([\n",
    "    ('numerical', num_pipeline, num_cols),\n",
    "    ('categorical', OneHotEncoder(), cat_cols)\n",
    "])\n",
    "\n",
    "X_train = prep_pipeline.fit_transform(X_train_df)\n",
    "X_train.shape"
   ]
  },
  {
   "cell_type": "markdown",
   "metadata": {},
   "source": [
    "Let's test some classifiers, see how they perform"
   ]
  },
  {
   "cell_type": "code",
   "execution_count": 168,
   "metadata": {},
   "outputs": [],
   "source": [
    "from sklearn.linear_model import SGDClassifier\n",
    "from sklearn.ensemble import RandomForestClassifier\n",
    "from sklearn.svm import SVC\n",
    "from sklearn.neighbors import KNeighborsClassifier\n",
    "\n",
    "predict_pipeline = Pipeline([\n",
    "    ('prep', prep_pipeline),\n",
    "    ('predict', SGDClassifier())\n",
    "])\n",
    "\n",
    "n_jobs = -1\n",
    "random_state = 42\n",
    "\n",
    "param_grid = [\n",
    "    {\n",
    "        'prep__numerical__imputer__strategy': ['mean', 'median', 'most_frequent'],\n",
    "        'prep__numerical__scaler': [MinMaxScaler(), StandardScaler()],\n",
    "        'predict': [SGDClassifier(n_jobs=n_jobs, random_state=random_state)],\n",
    "        'predict__loss': ['hinge', 'log', 'perceptron'],\n",
    "        'predict__penalty': ['l2', 'l1', 'elasticnet'],\n",
    "        'predict__max_iter' : np.r_[1000 : 10000 : 1000]\n",
    "    },\n",
    "    {\n",
    "        'prep__numerical__imputer__strategy': ['mean', 'median', 'most_frequent'],\n",
    "        'prep__numerical__scaler': [MinMaxScaler(), StandardScaler()],\n",
    "        'predict': [RandomForestClassifier(n_jobs=n_jobs, random_state=random_state)],\n",
    "        'predict__n_estimators': np.r_[100:500:100],\n",
    "        'predict__criterion': ['gini', 'entropy'],\n",
    "        'predict__max_features': ['auto','log2']\n",
    "    },\n",
    "    {\n",
    "        'prep__numerical__imputer__strategy': ['mean', 'median', 'most_frequent'],\n",
    "        'prep__numerical__scaler': [MinMaxScaler(), StandardScaler()],\n",
    "        'predict': [SVC(random_state=random_state)],\n",
    "        'predict__C': np.r_[1:10],\n",
    "        'predict__kernel': ['linear', 'rbf', 'sigmoid'],\n",
    "        'predict__gamma': ['scale', 'auto']\n",
    "    },\n",
    "    {\n",
    "        'prep__numerical__imputer__strategy': ['mean', 'median', 'most_frequent'],\n",
    "        'prep__numerical__scaler': [MinMaxScaler(), StandardScaler()],\n",
    "        'predict': [KNeighborsClassifier(n_jobs=n_jobs)],\n",
    "        'predict__n_neighbors': np.r_[2:10],\n",
    "        'predict__weights': ['uniform', 'distance'],\n",
    "        'predict__algorithm': ['auto','ball_tree', 'kd_tree']\n",
    "    }\n",
    "]"
   ]
  },
  {
   "cell_type": "code",
   "execution_count": 174,
   "metadata": {},
   "outputs": [
    {
     "name": "stdout",
     "output_type": "stream",
     "text": [
      "Fitting 5 folds for each of 1194 candidates, totalling 5970 fits\n"
     ]
    },
    {
     "name": "stderr",
     "output_type": "stream",
     "text": [
      "[Parallel(n_jobs=1)]: Using backend SequentialBackend with 1 concurrent workers.\n",
      "[Parallel(n_jobs=1)]: Done 5970 out of 5970 | elapsed:  5.0min finished\n"
     ]
    },
    {
     "data": {
      "text/plain": [
       "{'predict': SVC(C=2, break_ties=False, cache_size=200, class_weight=None, coef0=0.0,\n",
       "     decision_function_shape='ovr', degree=3, gamma='auto', kernel='rbf',\n",
       "     max_iter=-1, probability=False, random_state=42, shrinking=True, tol=0.001,\n",
       "     verbose=False),\n",
       " 'predict__C': 2,\n",
       " 'predict__gamma': 'auto',\n",
       " 'predict__kernel': 'rbf',\n",
       " 'prep__numerical__imputer__strategy': 'mean',\n",
       " 'prep__numerical__scaler': StandardScaler(copy=True, with_mean=True, with_std=True)}"
      ]
     },
     "execution_count": 174,
     "metadata": {},
     "output_type": "execute_result"
    }
   ],
   "source": [
    "from sklearn.model_selection import GridSearchCV\n",
    "\n",
    "grid_search = GridSearchCV(predict_pipeline, param_grid, cv=5, scoring='accuracy', verbose=1)\n",
    "grid_search.fit(X_train_df, y_train_df)\n",
    "\n",
    "best_estimator = grid_search.best_estimator_\n",
    "best_param = grid_search.best_params_\n",
    "best_param"
   ]
  },
  {
   "cell_type": "code",
   "execution_count": 186,
   "metadata": {},
   "outputs": [
    {
     "data": {
      "text/plain": [
       "0.8294017952419811"
      ]
     },
     "execution_count": 186,
     "metadata": {},
     "output_type": "execute_result"
    }
   ],
   "source": [
    "grid_search.best_score_"
   ]
  },
  {
   "cell_type": "markdown",
   "metadata": {},
   "source": [
    "Somewhat decent score for a quick attempt. There's more that can be done to improve the model but i'll leave this as future work"
   ]
  },
  {
   "cell_type": "markdown",
   "metadata": {},
   "source": [
    "* What is SibSp and Parch? how do the affect Survival?\n",
    "* Are there correlations between class/location of embark and survival?\n",
    "* Feature Engineering\n",
    "    * Some names have titles, can we extract them and use them?\n",
    "* Test other models\n",
    "* Test RandomSearchCV"
   ]
  }
 ],
 "metadata": {
  "kernelspec": {
   "display_name": "Python 3",
   "language": "python",
   "name": "python3"
  },
  "language_info": {
   "codemirror_mode": {
    "name": "ipython",
    "version": 3
   },
   "file_extension": ".py",
   "mimetype": "text/x-python",
   "name": "python",
   "nbconvert_exporter": "python",
   "pygments_lexer": "ipython3",
   "version": "3.6.9"
  },
  "varInspector": {
   "cols": {
    "lenName": 16,
    "lenType": 16,
    "lenVar": 40
   },
   "kernels_config": {
    "python": {
     "delete_cmd_postfix": "",
     "delete_cmd_prefix": "del ",
     "library": "var_list.py",
     "varRefreshCmd": "print(var_dic_list())"
    },
    "r": {
     "delete_cmd_postfix": ") ",
     "delete_cmd_prefix": "rm(",
     "library": "var_list.r",
     "varRefreshCmd": "cat(var_dic_list()) "
    }
   },
   "types_to_exclude": [
    "module",
    "function",
    "builtin_function_or_method",
    "instance",
    "_Feature"
   ],
   "window_display": false
  }
 },
 "nbformat": 4,
 "nbformat_minor": 2
}
