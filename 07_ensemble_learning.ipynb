{
 "cells": [
  {
   "cell_type": "markdown",
   "metadata": {},
   "source": [
    "# Chapter 7\n",
    "## Ensemble Learning and Random Forests"
   ]
  },
  {
   "cell_type": "markdown",
   "metadata": {},
   "source": [
    "By aggregating the responses of a group of predictors, we can generally get better predictions than if we were using a single predictor.\n",
    "Such a group of predictors is called an *ensemble*; thus this technique is called **Ensemble Learning**"
   ]
  },
  {
   "cell_type": "markdown",
   "metadata": {},
   "source": [
    "In the last exercise of chapter 6, we created an ensemble of Decision Trees, which formed a *Random Forest*."
   ]
  },
  {
   "cell_type": "markdown",
   "metadata": {},
   "source": [
    "Ensemble methods are typically used near the end of a project once you already have built a few good predictors, to combine them into an even better predictor.\n",
    "\n",
    "In this chapter we will discuss the most popular Ensemble methods, including *bagging*, *boosting* and *stacking*. We will also explore Random Forests."
   ]
  },
  {
   "cell_type": "markdown",
   "metadata": {},
   "source": [
    "## Voting Classifiers"
   ]
  },
  {
   "cell_type": "markdown",
   "metadata": {},
   "source": [
    "Suppose we have trained a Logistic Regression classifier, a SVM classifier and a Random Forest classifier, each achieving about 80% accuracy.\n",
    "\n",
    "A very simple way of creating a better classifier is to aggregate the predictions of each classifier and predict the class that gets the most votes. This majority-vote classifier is called a *hard voting classifier*. This type of voting classifier often achieves higher accuracy than the best classifier in the ensemble.\n",
    "\n",
    "In fact if even if a classifier is a *weak learner* (i.e. only slightly better than random guessing), the ensemble can still be a *strong learner* provided there are a sufficient number of weak learners and they are sufficiently diverse."
   ]
  },
  {
   "cell_type": "markdown",
   "metadata": {},
   "source": [
    "This happens due to the law of large numbers (see coin tossing explanation pg 191). "
   ]
  },
  {
   "cell_type": "markdown",
   "metadata": {},
   "source": [
    "Thus suppose we build an ensemble containing 1,000 classifiers that are individually correct 51% of the time. By using majority voting, we can hope for up to 75% accuracy.\n",
    "\n",
    "However, this is only true if all classifiers are perfectly independent, making uncorrelated errors, which is clearly not the case because they are trained on the same data. They are likely to make the same types of errors, so there will be many majority votes for the wrong class, reducing the ensemble's accuracy."
   ]
  },
  {
   "cell_type": "markdown",
   "metadata": {},
   "source": [
    "**Note:** Ensemble methods work best when predictors are as independent from one another as possible. A good way to achieve this is to train them using very different algorithms, increasing the chance they will make very different types of errors, thus improving the ensemble's accuracy."
   ]
  },
  {
   "cell_type": "markdown",
   "metadata": {},
   "source": [
    "Example of a hard voting classifier"
   ]
  },
  {
   "cell_type": "code",
   "execution_count": 1,
   "metadata": {},
   "outputs": [],
   "source": [
    "# Generate data\n",
    "from sklearn.model_selection import train_test_split\n",
    "from sklearn.datasets import make_moons\n",
    "\n",
    "X, y = make_moons(n_samples=500, noise=0.30, random_state=42)\n",
    "X_train, X_test, y_train, y_test = train_test_split(X, y, random_state=42)"
   ]
  },
  {
   "cell_type": "code",
   "execution_count": 2,
   "metadata": {},
   "outputs": [],
   "source": [
    "from sklearn.ensemble import RandomForestClassifier, VotingClassifier\n",
    "from sklearn.linear_model import LogisticRegression\n",
    "from sklearn.svm import SVC\n",
    "\n",
    "log_clf = LogisticRegression()\n",
    "rnd_clf = RandomForestClassifier()\n",
    "svm_clf = SVC()\n",
    "\n",
    "voting_clf = VotingClassifier(\n",
    "    estimators=[('lr', log_clf), ('rf', rnd_clf), ('svc', svm_clf)],\n",
    "    voting='hard')"
   ]
  },
  {
   "cell_type": "code",
   "execution_count": 3,
   "metadata": {},
   "outputs": [
    {
     "name": "stdout",
     "output_type": "stream",
     "text": [
      "LogisticRegression 0.864\n",
      "RandomForestClassifier 0.88\n",
      "SVC 0.896\n",
      "VotingClassifier 0.904\n"
     ]
    }
   ],
   "source": [
    "from sklearn.metrics import accuracy_score\n",
    "for clf in (log_clf, rnd_clf, svm_clf, voting_clf):\n",
    "    clf.fit(X_train, y_train)\n",
    "    y_pred = clf.predict(X_test)\n",
    "    print(clf.__class__.__name__, accuracy_score(y_test, y_pred))"
   ]
  },
  {
   "cell_type": "markdown",
   "metadata": {},
   "source": [
    "If the classifiers can estimate class probabilities(i.e. the have the predict_proba method), we can set skelearn to predict the class with the highest class probability, averaged over all the individual classifiers. This is called *soft-voting*. (set voting=soft)\n",
    "\n",
    "It often achieves higher performance than hard voting because it gives more weight to highly confident votes. "
   ]
  },
  {
   "cell_type": "markdown",
   "metadata": {},
   "source": [
    "For the above, we SVC does not output class probabilities by defaultm but we can set its **probability** hyperparameter to True to output probabilities and use soft voting."
   ]
  },
  {
   "cell_type": "markdown",
   "metadata": {},
   "source": [
    "## Bagging and Pasting"
   ]
  },
  {
   "cell_type": "markdown",
   "metadata": {},
   "source": [
    "Another way to get a diverse set of classifiers is to train the same algorithm using different subsets of the training set. When sampling is performing with replacement, this is called *bagging*, and when it is performed without replacement, it is called *pasting*."
   ]
  },
  {
   "cell_type": "markdown",
   "metadata": {},
   "source": [
    "Once all predictors are trained, the ensemble can make a prediction based on the type of problem. For classifiers it uses the statistical *mode* (similar to a hard voting classifier) and for regressors it uses the *mean*.\n",
    "\n",
    "Each individual classifier will have higher bias than if it were trained on the full training set, but aggregation reduces bias and variance. Generally the ensemble has similar bias but lower variance than a single predictor trained on the full training set."
   ]
  },
  {
   "cell_type": "markdown",
   "metadata": {},
   "source": [
    "Another advantage of baggind and pasting is that predictors can be trained in different CPU cores and evenr across different servers. Predictions can also be made in parallel.\n",
    "\n",
    "This means they are very scalable methods"
   ]
  },
  {
   "cell_type": "code",
   "execution_count": 4,
   "metadata": {},
   "outputs": [],
   "source": [
    "# Sklearn example\n",
    "from sklearn.ensemble import BaggingClassifier\n",
    "from sklearn.tree import DecisionTreeClassifier\n",
    "\n",
    "bag_clf = BaggingClassifier(\n",
    "    DecisionTreeClassifier(),\n",
    "    n_estimators=500, # Train 500 classifiers\n",
    "    max_samples=100,  # On subsets of size 100\n",
    "    bootstrap=True,    # Sampling data with replacement (set=False for pasting)\n",
    "    n_jobs=-1         # Use all cores available\n",
    ")\n",
    "bag_clf.fit(X_train,y_train)\n",
    "y_pred = bag_clf.predict(X_test)"
   ]
  },
  {
   "cell_type": "code",
   "execution_count": 5,
   "metadata": {},
   "outputs": [
    {
     "data": {
      "text/plain": [
       "0.912"
      ]
     },
     "execution_count": 5,
     "metadata": {},
     "output_type": "execute_result"
    }
   ],
   "source": [
    "accuracy_score(y_test, y_pred)"
   ]
  },
  {
   "cell_type": "markdown",
   "metadata": {},
   "source": [
    "*Note:* The BaggingClassifier automatically performs soft voting instead of hard voting if the base classifier can estimate class probabilities (i.e. has a predict_proba method)"
   ]
  },
  {
   "cell_type": "code",
   "execution_count": 6,
   "metadata": {},
   "outputs": [],
   "source": [
    "import numpy as np\n",
    "from matplotlib.colors import ListedColormap\n",
    "import matplotlib.pyplot as plt\n",
    "plt.style.use('seaborn')\n",
    "\n",
    "def plot_decision_boundary(clf, X, y, axes=[-1.5, 2.45, -1, 1.5], alpha=0.5, contour=True):\n",
    "    x1s = np.linspace(axes[0], axes[1], 100)\n",
    "    x2s = np.linspace(axes[2], axes[3], 100)\n",
    "    x1, x2 = np.meshgrid(x1s, x2s)\n",
    "    X_new = np.c_[x1.ravel(), x2.ravel()]\n",
    "    y_pred = clf.predict(X_new).reshape(x1.shape)\n",
    "    custom_cmap = ListedColormap(['#fafab0','#9898ff','#a0faa0'])\n",
    "    plt.contourf(x1, x2, y_pred, alpha=0.3, cmap=custom_cmap)\n",
    "    if contour:\n",
    "        custom_cmap2 = ListedColormap(['#7d7d58','#4c4c7f','#507d50'])\n",
    "        plt.contour(x1, x2, y_pred, cmap=custom_cmap2, alpha=0.8)\n",
    "    plt.plot(X[:, 0][y==0], X[:, 1][y==0], \"yo\", alpha=alpha)\n",
    "    plt.plot(X[:, 0][y==1], X[:, 1][y==1], \"bs\", alpha=alpha)\n",
    "    plt.axis(axes)\n",
    "    plt.xlabel(r\"$x_1$\", fontsize=18)\n",
    "    plt.ylabel(r\"$x_2$\", fontsize=18, rotation=0)"
   ]
  },
  {
   "cell_type": "code",
   "execution_count": 7,
   "metadata": {},
   "outputs": [
    {
     "data": {
      "image/png": "[encoded data removed]",
      "text/plain": [
       "<Figure size 720x288 with 2 Axes>"
      ]
     },
     "metadata": {
      "needs_background": "light"
     },
     "output_type": "display_data"
    }
   ],
   "source": [
    "tree_clf = DecisionTreeClassifier().fit(X_train, y_train)\n",
    "\n",
    "fix, axes = plt.subplots(ncols=2, figsize=(10,4), sharey=True)\n",
    "plt.sca(axes[0])\n",
    "plot_decision_boundary(tree_clf, X, y)\n",
    "plt.title(\"Decision Tree\", fontsize=14)\n",
    "plt.sca(axes[1])\n",
    "plot_decision_boundary(bag_clf, X, y)\n",
    "plt.title(\"Decision Trees with Bagging\", fontsize=14)\n",
    "plt.ylabel(\"\")\n",
    "plt.show()"
   ]
  },
  {
   "cell_type": "markdown",
   "metadata": {},
   "source": [
    "The figure above compares a DecisionTree with a bagging classifier. The models have similar bias (i.e. make the roughly the same number of errors) but the bagging classifier has lesser variance, it's decision boundary is much less irregular."
   ]
  },
  {
   "cell_type": "markdown",
   "metadata": {},
   "source": [
    "Generally boostrapping adds a bit more diversity to the subsets each predictor uses, thus bagging usually ends up with a slighly higher bias than pasting. But the extra diversity means the predictors ends up being less correlated so the ensemble's variance is reduced. "
   ]
  },
  {
   "cell_type": "markdown",
   "metadata": {},
   "source": [
    "### Out-of-Bag evaluation"
   ]
  },
  {
   "cell_type": "markdown",
   "metadata": {},
   "source": [
    "When using bagging, some training instances might be sampled multiple times, while others might not be sampled at all. By default, a BaggingClassifier samples *m* training instances with replacement where *m* is the size of the training set. \n",
    "\n",
    "This means only 63% of the training instances are sampled on average for each predictor, with the remaining 37% being called *out-of-bag (oob)* instances. (They are not the same 37% for all predictors) "
   ]
  },
  {
   "cell_type": "markdown",
   "metadata": {},
   "source": [
    "We can use these oob sample to evaluate predictors without a need for a testing set. We can set oob_score=True to request automatic oob evaluation after training."
   ]
  },
  {
   "cell_type": "code",
   "execution_count": 8,
   "metadata": {},
   "outputs": [
    {
     "data": {
      "text/plain": [
       "0.9226666666666666"
      ]
     },
     "execution_count": 8,
     "metadata": {},
     "output_type": "execute_result"
    }
   ],
   "source": [
    "bag_clf = BaggingClassifier(\n",
    "    DecisionTreeClassifier(), n_estimators=500, \n",
    "    max_samples=100,  bootstrap=True, oob_score=True,\n",
    "    n_jobs=-1\n",
    ")\n",
    "bag_clf.fit(X_train,y_train)\n",
    "bag_clf.oob_score_"
   ]
  },
  {
   "cell_type": "code",
   "execution_count": 9,
   "metadata": {},
   "outputs": [
    {
     "data": {
      "text/plain": [
       "0.92"
      ]
     },
     "execution_count": 9,
     "metadata": {},
     "output_type": "execute_result"
    }
   ],
   "source": [
    "y_pred = bag_clf.predict(X_test)\n",
    "accuracy_score(y_test, y_pred)"
   ]
  },
  {
   "cell_type": "markdown",
   "metadata": {},
   "source": [
    "We can also access the decision function for the oob samples"
   ]
  },
  {
   "cell_type": "code",
   "execution_count": 10,
   "metadata": {},
   "outputs": [
    {
     "data": {
      "text/plain": [
       "array([[0.34383202, 0.65616798],\n",
       "       [0.33850129, 0.66149871],\n",
       "       [1.        , 0.        ],\n",
       "       [0.0026455 , 0.9973545 ],\n",
       "       [0.02144772, 0.97855228],\n",
       "       [0.10966057, 0.89033943],\n",
       "       [0.42447917, 0.57552083],\n",
       "       [0.04081633, 0.95918367],\n",
       "       [0.95013123, 0.04986877],\n",
       "       [0.82749326, 0.17250674]])"
      ]
     },
     "execution_count": 10,
     "metadata": {},
     "output_type": "execute_result"
    }
   ],
   "source": [
    "bag_clf.oob_decision_function_[:10]"
   ]
  },
  {
   "cell_type": "markdown",
   "metadata": {},
   "source": [
    "### Random Patches and Random Subspaces"
   ]
  },
  {
   "cell_type": "markdown",
   "metadata": {},
   "source": [
    "The BaggingClassifier also supports sampling of *features* by using max_features and bootstrap_features. They work similarly to the max_samples and bootstrap parameters but sample input features instead of training data. Thus each predictor will be trained on a random subset of the input features.\n",
    "\n",
    "This can be useful when dealing with high-dimensional data (such as images)."
   ]
  },
  {
   "cell_type": "markdown",
   "metadata": {},
   "source": [
    "Sampling both training instances and features is called the *Random Patches* method."
   ]
  },
  {
   "cell_type": "markdown",
   "metadata": {},
   "source": [
    "Keeping all training instances but sampling features is called the *Random Subspace* method"
   ]
  },
  {
   "cell_type": "markdown",
   "metadata": {},
   "source": [
    "Sampling features results in even more predictor diversity, trading a bit more bias for a lower variance"
   ]
  },
  {
   "cell_type": "markdown",
   "metadata": {},
   "source": [
    "## Random Forests"
   ]
  },
  {
   "cell_type": "markdown",
   "metadata": {},
   "source": [
    "RandomForests are ensembles of Decision Trees, usually trained via bagging method. Instead of building a BaggingClassifier and passing it Decision Trees, we can simply use the RandomForest class.\n",
    "\n",
    "The bagging classifier is still useful if we want to bag something other than decision trees."
   ]
  },
  {
   "cell_type": "code",
   "execution_count": 11,
   "metadata": {},
   "outputs": [],
   "source": [
    "from sklearn.ensemble import RandomForestClassifier\n",
    "\n",
    "rnd_clf = RandomForestClassifier(n_estimators=500, max_leaf_nodes=16, n_jobs=-1)\n",
    "rnd_clf.fit(X_train, y_train)\n",
    "y_pred_rf = rnd_clf.predict(X_test)"
   ]
  },
  {
   "cell_type": "code",
   "execution_count": 12,
   "metadata": {},
   "outputs": [
    {
     "data": {
      "text/plain": [
       "0.912"
      ]
     },
     "execution_count": 12,
     "metadata": {},
     "output_type": "execute_result"
    }
   ],
   "source": [
    "accuracy_score(y_test, y_pred_rf)"
   ]
  },
  {
   "cell_type": "markdown",
   "metadata": {},
   "source": [
    "With a few exceptions, the RandomForestClassifier has all the hyperparameters of DecisionTrees plus all of those of the BaggingClassifier. \n",
    "\n",
    "Exceptions are: splitter (set to random), presort (set to false), max_samples (set to 1.0) and base_estimator is forced to DecisionTreeClassifier."
   ]
  },
  {
   "cell_type": "markdown",
   "metadata": {},
   "source": [
    "RandomForests introduce extra randomness when growing trees: instead of searching for the best feature when splitting a node, it searches for the best feature among a random *subset* of features. This results in greater tree diversity, which trades a higher bias fro a lower variance, yielding an overall better model"
   ]
  },
  {
   "cell_type": "markdown",
   "metadata": {},
   "source": [
    "### Extra-Trees"
   ]
  },
  {
   "cell_type": "markdown",
   "metadata": {},
   "source": [
    "We can introduce extra randomness when growing a forest by also using random thresholds for each feature rather than searching for the best possible thresholds (like regular Decision Trees do).\n",
    "\n",
    "These forests are known as *Extremely Randomized Trees* (Extra Trees for short). Again, this trades higher bias for lower variance. Extra Trees are also faster to train than Random Forests because finding the best possible threshold is one of the more time-consuming tasks of growing a tree.\n",
    "\n",
    "ScikitLean has the ExtraTreesClassifier class and its API is identical to the RandomForestClassifier. (same for regressor)"
   ]
  },
  {
   "cell_type": "markdown",
   "metadata": {},
   "source": [
    "### Feature Importance"
   ]
  },
  {
   "cell_type": "markdown",
   "metadata": {},
   "source": [
    "We can measure the importance of each feature in a Random Forest, which in turn can help us to identify useful features. ScikitLearn  measures importance by looking at how much the tree nodes that use that feature reduce impurity on average (across all trees in the forest). More precisely, it is a weighted average, where each node's weight is equal to the number of training samples that are associated with it.\n",
    "\n",
    "This score is computed automatically after training and results are then scaled so that the sum of all importances is 1. We can access these with the feature_importances_ variable.\n",
    "The following code grows a random forest on the iris dataset prints features importances."
   ]
  },
  {
   "cell_type": "code",
   "execution_count": 13,
   "metadata": {},
   "outputs": [
    {
     "name": "stdout",
     "output_type": "stream",
     "text": [
      "sepal length (cm) 0.10345743242433808\n",
      "sepal width (cm) 0.02306342141443841\n",
      "petal length (cm) 0.46321308801118377\n",
      "petal width (cm) 0.41026605815003975\n"
     ]
    }
   ],
   "source": [
    "from sklearn.datasets import load_iris\n",
    "\n",
    "iris = load_iris()\n",
    "rnd_clf = RandomForestClassifier(n_estimators=500, n_jobs=-1)\n",
    "rnd_clf.fit(iris['data'], iris['target'])\n",
    "for name, score in zip(iris['feature_names'], rnd_clf.feature_importances_):\n",
    "    print(name, score)"
   ]
  },
  {
   "cell_type": "markdown",
   "metadata": {},
   "source": [
    "See book for plot of feature importances for MNIST."
   ]
  },
  {
   "cell_type": "markdown",
   "metadata": {},
   "source": [
    "## Boosting"
   ]
  },
  {
   "cell_type": "markdown",
   "metadata": {},
   "source": [
    "*Boosting* refers to any Ensemble method that can combine several weak learners into a strong learner. The general idea of most boosting methods is to train predictors sequentially, each trying to correct its predecessor. "
   ]
  },
  {
   "cell_type": "markdown",
   "metadata": {},
   "source": [
    "### AdaBoost"
   ]
  },
  {
   "cell_type": "markdown",
   "metadata": {},
   "source": [
    "One way to correct a predecessor instance, is for the model to pay more attention to the misclassified training instances. This results in predictions focused more and more on the hard cases. This is the technique used by AdaBoost."
   ]
  },
  {
   "cell_type": "markdown",
   "metadata": {},
   "source": [
    "For example, AdaBoost starts by training a base classifier (e.g. DecisionTree) and uses that to make predictions on the training set.\n",
    "\n",
    "The algorithm then increases the relative weight of misclassified training instances.\n",
    "\n",
    "Then it trains a second classifier, using the updated weights, and again makes predictions on the training set, updates the instance weights, and so on..."
   ]
  },
  {
   "cell_type": "markdown",
   "metadata": {},
   "source": [
    "The plot below shows the decision boundaries of five consecutive predictors on the moons dataset."
   ]
  },
  {
   "cell_type": "code",
   "execution_count": 14,
   "metadata": {},
   "outputs": [
    {
     "data": {
      "image/png": "[encoded data removed]",
      "text/plain": [
       "<Figure size 720x288 with 2 Axes>"
      ]
     },
     "metadata": {
      "needs_background": "light"
     },
     "output_type": "display_data"
    }
   ],
   "source": [
    "m = len(X_train)\n",
    "\n",
    "fix, axes = plt.subplots(ncols=2, figsize=(10,4), sharey=True)\n",
    "for subplot, learning_rate in ((0, 1), (1, 0.5)):\n",
    "    sample_weights = np.ones(m)\n",
    "    plt.sca(axes[subplot])\n",
    "    for i in range(5):\n",
    "        svm_clf = SVC(kernel=\"rbf\", C=0.05, gamma=\"scale\", random_state=42)\n",
    "        svm_clf.fit(X_train, y_train, sample_weight=sample_weights)\n",
    "        y_pred = svm_clf.predict(X_train)\n",
    "        sample_weights[y_pred != y_train] *= (1 + learning_rate)\n",
    "        plot_decision_boundary(svm_clf, X, y, alpha=0.2)\n",
    "        plt.title(\"learning_rate = {}\".format(learning_rate), fontsize=16)\n",
    "    if subplot == 0:\n",
    "        plt.text(-0.7, -0.65, \"1\", fontsize=14)\n",
    "        plt.text(-0.6, -0.10, \"2\", fontsize=14)\n",
    "        plt.text(-0.5,  0.10, \"3\", fontsize=14)\n",
    "        plt.text(-0.4,  0.55, \"4\", fontsize=14)\n",
    "        plt.text(-0.3,  0.90, \"5\", fontsize=14)\n",
    "    else:\n",
    "        plt.ylabel(\"\")\n",
    "\n",
    "plt.show()"
   ]
  },
  {
   "cell_type": "markdown",
   "metadata": {},
   "source": [
    "Each predictor is a highly regularized SVM. With each iteration the weights are updated and it's predictions get better. This has some similarities to Gradient Descent, except that instead of tweaking a single predictor's parameters to minimize a cost function, AdaBoost adds predictors to the ensemble, gradually making it better."
   ]
  },
  {
   "cell_type": "markdown",
   "metadata": {},
   "source": [
    "Let's have a look at the inner workings of AdaBoost!"
   ]
  },
  {
   "cell_type": "markdown",
   "metadata": {},
   "source": [
    "Each instance weight $w^{(i)}$ is initially set to $\\frac{1}{m}$. The first predictor is trained and its weighted error rate $r_1$ is computed on the training set. $r_j$ is defined as:\n",
    "\n",
    "$$ r_j = \\frac{\\sum_{\\substack{i=1 \\\\ \\hat{y}_{j}^{(i)} \\neq y^{(i)}}}^{m}{w^{(i)}}} {\\sum_{i=1}^{m}w^{(i)}}$$\n",
    "\n",
    "Where $\\hat{y}_{j}^{(i)}$ is the j-th predictor's prediction for the i-th instance."
   ]
  },
  {
   "cell_type": "markdown",
   "metadata": {},
   "source": [
    "The predictor's weight $\\alpha_j$ is then computed using the following equation:\n",
    "\n",
    "$$ \\alpha_j = \\eta \\log\\frac{1-r_j}{r_j} $$\n",
    "\n",
    "The more accurate the predictor is, the higher the weight; if it is just guessing randomly its weight will be close to zero and if it is mostly wrong, its weight will be negative"
   ]
  },
  {
   "cell_type": "markdown",
   "metadata": {},
   "source": [
    "Next, AdaBoost updates the instances weights with the following rule for $i=1,...,m$\n",
    "\n",
    "$$ w^{(i)} \\leftarrow \\begin{cases} w^{(i)} & \\hat{y_j}^{(i)} = y^{(i)} \\\\\n",
    "                                    w^{(i)}\\exp(\\alpha_j) & \\hat{y_j}^{(i)} \\neq y^{(i)}\n",
    "                      \\end{cases}$$\n",
    "                      \n",
    "Then all instance weights are normalized (i.e. divided by $\\sum_{i=1}^{m}w^{(i)}$)"
   ]
  },
  {
   "cell_type": "markdown",
   "metadata": {},
   "source": [
    "Finally a new predictor is trained using the updated weights and the whole process i repeated (the new predictor's weight is computed, the instance weights are upated, anothe predictor trained and so on...)"
   ]
  },
  {
   "cell_type": "markdown",
   "metadata": {},
   "source": [
    "To make predictions, AdaBoost simply computes the predictions of all the predictors and weighs them using predictor weights $\\alpha_j$. The predicted class is the one that receives the majority of weighted votes.\n",
    "\n",
    "$$ \\hat{y}(\\textbf{x}) = \\underset{k}{\\mathrm{argmax}} \\sum_{\\substack{j=1 \\\\ \\hat{y_j}^{(i)}(\\textbf{x})=k}}^{N}\\alpha_j $$\n",
    "\n",
    "Where N is the number of predictors"
   ]
  },
  {
   "cell_type": "markdown",
   "metadata": {},
   "source": [
    "Sklearn uses a multiclass version of AdaBoost called SAMME (*Stagewise Additive Modeling using a Multiclass Exponential loss function*). With two classes SAMME is equivalent to AdaBoost. If predictors can estimate class probabilities, it uses SAMME.R (R for real), which uses class probabilities and in general performs better."
   ]
  },
  {
   "cell_type": "markdown",
   "metadata": {},
   "source": [
    "The code below trains an AdaBoost classifier on 200 *Decision Stumps* (decition tree with max_depth=1). This is the default base estimator for the AdaBoostClassifier"
   ]
  },
  {
   "cell_type": "code",
   "execution_count": 15,
   "metadata": {},
   "outputs": [
    {
     "data": {
      "text/plain": [
       "0.896"
      ]
     },
     "execution_count": 15,
     "metadata": {},
     "output_type": "execute_result"
    }
   ],
   "source": [
    "from sklearn.ensemble import AdaBoostClassifier\n",
    "\n",
    "ada_clf = AdaBoostClassifier(\n",
    "    DecisionTreeClassifier(max_depth=1), n_estimators=20, \n",
    "    algorithm='SAMME.R', learning_rate=0.5)\n",
    "ada_clf.fit(X_train, y_train)\n",
    "y_pred_ada = ada_clf.predict(X_test)\n",
    "\n",
    "accuracy_score(y_test, y_pred_ada)"
   ]
  },
  {
   "cell_type": "markdown",
   "metadata": {},
   "source": [
    "### Gradient Boosting"
   ]
  },
  {
   "cell_type": "markdown",
   "metadata": {},
   "source": [
    "Another popular boosting algorithm is *Gradient Boosting*. It works by sequentially adding predictors to an ensemble, each correcting its predecessor."
   ]
  },
  {
   "cell_type": "markdown",
   "metadata": {},
   "source": [
    "However, instead of tweaking the instance weights at every iteration, *gradient Boosting* fits a new predictor to the **residual errors** made by the previous predictor.\n",
    "\n",
    "Below, we'll walk through an example using Decision Trees as the base predictor. This is called *Gradient Tree Boosting* or *Gradient Boosted Regression Trees* (GBRT). \n",
    "\n",
    "We'll use a noisy quadratic as the training set."
   ]
  },
  {
   "cell_type": "code",
   "execution_count": 16,
   "metadata": {},
   "outputs": [],
   "source": [
    "np.random.seed(42)\n",
    "X = np.random.rand(100, 1) - 0.5\n",
    "y = 3*X[:, 0]**2 + 0.05 * np.random.randn(100)"
   ]
  },
  {
   "cell_type": "markdown",
   "metadata": {},
   "source": [
    "Start by training an initial DecisionTreeRegressor as our base regressor"
   ]
  },
  {
   "cell_type": "code",
   "execution_count": 17,
   "metadata": {},
   "outputs": [
    {
     "data": {
      "text/plain": [
       "DecisionTreeRegressor(ccp_alpha=0.0, criterion='mse', max_depth=2,\n",
       "                      max_features=None, max_leaf_nodes=None,\n",
       "                      min_impurity_decrease=0.0, min_impurity_split=None,\n",
       "                      min_samples_leaf=1, min_samples_split=2,\n",
       "                      min_weight_fraction_leaf=0.0, presort='deprecated',\n",
       "                      random_state=None, splitter='best')"
      ]
     },
     "execution_count": 17,
     "metadata": {},
     "output_type": "execute_result"
    }
   ],
   "source": [
    "from sklearn.tree import DecisionTreeRegressor\n",
    "\n",
    "tree_reg1 = DecisionTreeRegressor(max_depth=2)\n",
    "tree_reg1.fit(X, y)"
   ]
  },
  {
   "cell_type": "markdown",
   "metadata": {},
   "source": [
    "Now we train a second tree on the residuals of the first"
   ]
  },
  {
   "cell_type": "code",
   "execution_count": 18,
   "metadata": {},
   "outputs": [
    {
     "data": {
      "text/plain": [
       "DecisionTreeRegressor(ccp_alpha=0.0, criterion='mse', max_depth=2,\n",
       "                      max_features=None, max_leaf_nodes=None,\n",
       "                      min_impurity_decrease=0.0, min_impurity_split=None,\n",
       "                      min_samples_leaf=1, min_samples_split=2,\n",
       "                      min_weight_fraction_leaf=0.0, presort='deprecated',\n",
       "                      random_state=None, splitter='best')"
      ]
     },
     "execution_count": 18,
     "metadata": {},
     "output_type": "execute_result"
    }
   ],
   "source": [
    "tree_reg2 = DecisionTreeRegressor(max_depth=2)\n",
    "y2 = y - tree_reg1.predict(X)\n",
    "tree_reg2.fit(X, y2)"
   ]
  },
  {
   "cell_type": "markdown",
   "metadata": {},
   "source": [
    "And then a third regressor on the residuals made by the second predictor"
   ]
  },
  {
   "cell_type": "code",
   "execution_count": 19,
   "metadata": {},
   "outputs": [
    {
     "data": {
      "text/plain": [
       "DecisionTreeRegressor(ccp_alpha=0.0, criterion='mse', max_depth=2,\n",
       "                      max_features=None, max_leaf_nodes=None,\n",
       "                      min_impurity_decrease=0.0, min_impurity_split=None,\n",
       "                      min_samples_leaf=1, min_samples_split=2,\n",
       "                      min_weight_fraction_leaf=0.0, presort='deprecated',\n",
       "                      random_state=None, splitter='best')"
      ]
     },
     "execution_count": 19,
     "metadata": {},
     "output_type": "execute_result"
    }
   ],
   "source": [
    "tree_reg3 = DecisionTreeRegressor(max_depth=2)\n",
    "y3 = y - tree_reg2.predict(X)\n",
    "tree_reg3.fit(X, y3)"
   ]
  },
  {
   "cell_type": "markdown",
   "metadata": {},
   "source": [
    "Now we have an ensemble with three trees. To make predictions we simply add up the prediction of each tree"
   ]
  },
  {
   "cell_type": "code",
   "execution_count": 20,
   "metadata": {},
   "outputs": [],
   "source": [
    "y_pred = sum(tree.predict(X) for tree in (tree_reg1, tree_reg2, tree_reg3))"
   ]
  },
  {
   "cell_type": "markdown",
   "metadata": {},
   "source": [
    "See figure 7-9 on page 205 for a plot comparing the predictions of the ensemble."
   ]
  },
  {
   "cell_type": "markdown",
   "metadata": {},
   "source": [
    "ScikitLearn provides the GradientBoostingRegressor class to build GBRTs. It has hyperparameters to control the growth of the decision trees (max_depth, min_samples_leaf), as well as hyperparameters to control the ensemble training (n_estimators)"
   ]
  },
  {
   "cell_type": "code",
   "execution_count": 21,
   "metadata": {},
   "outputs": [
    {
     "data": {
      "text/plain": [
       "GradientBoostingRegressor(alpha=0.9, ccp_alpha=0.0, criterion='friedman_mse',\n",
       "                          init=None, learning_rate=1, loss='ls', max_depth=2,\n",
       "                          max_features=None, max_leaf_nodes=None,\n",
       "                          min_impurity_decrease=0.0, min_impurity_split=None,\n",
       "                          min_samples_leaf=1, min_samples_split=2,\n",
       "                          min_weight_fraction_leaf=0.0, n_estimators=3,\n",
       "                          n_iter_no_change=None, presort='deprecated',\n",
       "                          random_state=42, subsample=1.0, tol=0.0001,\n",
       "                          validation_fraction=0.1, verbose=0, warm_start=False)"
      ]
     },
     "execution_count": 21,
     "metadata": {},
     "output_type": "execute_result"
    }
   ],
   "source": [
    "# The following replicates the steps done above\n",
    "from sklearn.ensemble import GradientBoostingRegressor\n",
    "gbrt = GradientBoostingRegressor(max_depth=2, n_estimators=3, learning_rate=1, random_state=42)\n",
    "gbrt.fit(X,y)"
   ]
  },
  {
   "cell_type": "markdown",
   "metadata": {},
   "source": [
    "The learning rate hyperparameter scales the contribution of each tree to the ensemble. If you set it to a low value (e.b. 0.1), you will need more trees in the ensemble to fit the training set, but the predictions will generalize better. This is a regularization technique called *shrinkage*."
   ]
  },
  {
   "cell_type": "code",
   "execution_count": 22,
   "metadata": {},
   "outputs": [],
   "source": [
    "def plot_predictions(regressors, X, y, axes, label=None, style=\"r-\", data_style=\"b.\", data_label=None):\n",
    "    x1 = np.linspace(axes[0], axes[1], 500)\n",
    "    y_pred = sum(regressor.predict(x1.reshape(-1, 1)) for regressor in regressors)\n",
    "    plt.plot(X[:, 0], y, data_style, label=data_label)\n",
    "    plt.plot(x1, y_pred, style, linewidth=2, label=label)\n",
    "    if label or data_label:\n",
    "        plt.legend(loc=\"upper center\", fontsize=16)\n",
    "    plt.axis(axes)"
   ]
  },
  {
   "cell_type": "code",
   "execution_count": 23,
   "metadata": {},
   "outputs": [
    {
     "data": {
      "text/plain": [
       "GradientBoostingRegressor(alpha=0.9, ccp_alpha=0.0, criterion='friedman_mse',\n",
       "                          init=None, learning_rate=0.1, loss='ls', max_depth=2,\n",
       "                          max_features=None, max_leaf_nodes=None,\n",
       "                          min_impurity_decrease=0.0, min_impurity_split=None,\n",
       "                          min_samples_leaf=1, min_samples_split=2,\n",
       "                          min_weight_fraction_leaf=0.0, n_estimators=200,\n",
       "                          n_iter_no_change=None, presort='deprecated',\n",
       "                          random_state=42, subsample=1.0, tol=0.0001,\n",
       "                          validation_fraction=0.1, verbose=0, warm_start=False)"
      ]
     },
     "execution_count": 23,
     "metadata": {},
     "output_type": "execute_result"
    }
   ],
   "source": [
    "gbrt_slow = GradientBoostingRegressor(max_depth=2, n_estimators=200, learning_rate=0.1, \n",
    "                                      random_state=42)\n",
    "gbrt_slow.fit(X,y)"
   ]
  },
  {
   "cell_type": "markdown",
   "metadata": {},
   "source": [
    "The figure below shows two GBRTs with different learning rates. The one on the left with too few predictors and the one on the right with too many predictors."
   ]
  },
  {
   "cell_type": "code",
   "execution_count": 24,
   "metadata": {},
   "outputs": [
    {
     "data": {
      "image/png": "[encoded data removed]",
      "text/plain": [
       "<Figure size 720x288 with 2 Axes>"
      ]
     },
     "metadata": {
      "needs_background": "light"
     },
     "output_type": "display_data"
    }
   ],
   "source": [
    "fix, axes = plt.subplots(ncols=2, figsize=(10,4), sharey=True)\n",
    "\n",
    "plt.sca(axes[0])\n",
    "plot_predictions([gbrt], X, y, axes=[-0.5, 0.5, -0.1, 0.8], label=\"Ensemble predictions\")\n",
    "plt.title(\"learning_rate={}, n_estimators={}\"\n",
    "          .format(gbrt.learning_rate, gbrt.n_estimators), fontsize=14)\n",
    "plt.xlabel(\"$x_1$\", fontsize=16)\n",
    "plt.ylabel(\"$y$\", fontsize=16, rotation=0)\n",
    "\n",
    "plt.sca(axes[1])\n",
    "plot_predictions([gbrt_slow], X, y, axes=[-0.5, 0.5, -0.1, 0.8])\n",
    "plt.title(\"learning_rate={}, n_estimators={}\"\n",
    "          .format(gbrt_slow.learning_rate, gbrt_slow.n_estimators), fontsize=14)\n",
    "plt.xlabel(\"$x_1$\", fontsize=16)\n",
    "\n",
    "plt.show()"
   ]
  },
  {
   "cell_type": "markdown",
   "metadata": {},
   "source": [
    "To find the optimal number of trees, we can use early stopping. A simple way to implement this is to use the staged_predict method of the GBRT.\n",
    "\n",
    "Below we train a GBRT ensemble with 120 predictors, measure the validation error at each stage of training to find the optimal number of trees and finally re-train a new GBRT using the optimal number of trees"
   ]
  },
  {
   "cell_type": "code",
   "execution_count": 25,
   "metadata": {},
   "outputs": [
    {
     "data": {
      "text/plain": [
       "GradientBoostingRegressor(alpha=0.9, ccp_alpha=0.0, criterion='friedman_mse',\n",
       "                          init=None, learning_rate=0.1, loss='ls', max_depth=2,\n",
       "                          max_features=None, max_leaf_nodes=None,\n",
       "                          min_impurity_decrease=0.0, min_impurity_split=None,\n",
       "                          min_samples_leaf=1, min_samples_split=2,\n",
       "                          min_weight_fraction_leaf=0.0, n_estimators=53,\n",
       "                          n_iter_no_change=None, presort='deprecated',\n",
       "                          random_state=None, subsample=1.0, tol=0.0001,\n",
       "                          validation_fraction=0.1, verbose=0, warm_start=False)"
      ]
     },
     "execution_count": 25,
     "metadata": {},
     "output_type": "execute_result"
    }
   ],
   "source": [
    "from sklearn.metrics import mean_squared_error\n",
    "\n",
    "X_train, X_val, y_train, y_val = train_test_split(X, y)\n",
    "\n",
    "gbrt = GradientBoostingRegressor(max_depth=2, n_estimators=120)\n",
    "gbrt.fit(X_train, y_train)\n",
    "\n",
    "errors = [mean_squared_error(y_val, y_pred) for y_pred in gbrt.staged_predict(X_val)]\n",
    "bst_n_estimators = np.argmin(errors) + 1\n",
    "\n",
    "gbrt_best = GradientBoostingRegressor(max_depth=2, n_estimators=bst_n_estimators)\n",
    "gbrt_best.fit(X_train, y_train)"
   ]
  },
  {
   "cell_type": "code",
   "execution_count": 26,
   "metadata": {},
   "outputs": [
    {
     "data": {
      "image/png": "[encoded data removed]",
      "text/plain": [
       "<Figure size 720x288 with 2 Axes>"
      ]
     },
     "metadata": {
      "needs_background": "light"
     },
     "output_type": "display_data"
    }
   ],
   "source": [
    "plt.figure(figsize=(10, 4))\n",
    "\n",
    "plt.subplot(121)\n",
    "plt.plot(errors, \"b.-\")\n",
    "plt.plot([bst_n_estimators, bst_n_estimators], [0,  np.min(errors)], \"k--\")\n",
    "plt.plot([0, 120], [np.min(errors), np.min(errors)], \"k--\")\n",
    "plt.plot(bst_n_estimators, np.min(errors), \"ko\")\n",
    "plt.text(bst_n_estimators, np.min(errors)*1.2, \"Minimum\", ha=\"center\", fontsize=14)\n",
    "plt.axis([0, 120, 0, 0.01])\n",
    "plt.xlabel(\"Number of trees\")\n",
    "plt.ylabel(\"Error\", fontsize=16)\n",
    "plt.title(\"Validation error\", fontsize=14)\n",
    "\n",
    "plt.subplot(122)\n",
    "plot_predictions([gbrt_best], X, y, axes=[-0.5, 0.5, -0.1, 0.8])\n",
    "plt.title(\"Best model (%d trees)\" % bst_n_estimators, fontsize=14)\n",
    "plt.ylabel(\"$y$\", fontsize=16, rotation=0)\n",
    "plt.xlabel(\"$x_1$\", fontsize=16)\n",
    "\n",
    "plt.show()"
   ]
  },
  {
   "cell_type": "markdown",
   "metadata": {},
   "source": [
    "Note: You can also stop training early. To do this use warm_start=True when training your model (which makes sklearn keep the existing trees when using the fit method) and implementing a routine to check if validation error does not go up for $n$ iterations in a row. (snippet pg. 207)"
   ]
  },
  {
   "cell_type": "markdown",
   "metadata": {},
   "source": [
    "Another useful is *subsample*, which specifies a percentage of the training instances to be used for each tree. For example if subsample=0.25, 25% of the training set will be used for training each tree. This trades a higher bias for a lower variance.\n",
    "\n",
    "This technique is called **Stochastic Gradient Boosting**."
   ]
  },
  {
   "cell_type": "markdown",
   "metadata": {},
   "source": [
    "***Note***: an optimized version of Gradient Boosting is implemented in the library **XGBoost**. It is extremely fast, scalable and portable. It also implements early stopping by default. Worth checking it out if using Gradient Boosting."
   ]
  },
  {
   "cell_type": "markdown",
   "metadata": {},
   "source": [
    "### Stacking"
   ]
  },
  {
   "cell_type": "markdown",
   "metadata": {},
   "source": [
    "***Stacking*** is short for *stacked generalisation*, and the idea behind it is pretty simple. Instead of using trivial functions to aggregate the predictions of an ensemble, train a model to do it for us!"
   ]
  },
  {
   "cell_type": "markdown",
   "metadata": {},
   "source": [
    "Scikitlearn does not support stacking directly, hence you won't find any snippets here, but the general idea is pretty simple and will be implemented in the exercises. Alternatively, you can use an open source implementation such as *brew* (https://github.com/viisar/brew) [DEPRECATED], or DESlib (https://github.com/Menelau/DESlib)"
   ]
  },
  {
   "cell_type": "markdown",
   "metadata": {},
   "source": [
    "This section is very well explained in the book and the images help a lot. See pg 2018"
   ]
  },
  {
   "cell_type": "markdown",
   "metadata": {},
   "source": [
    "# Exercises"
   ]
  },
  {
   "cell_type": "markdown",
   "metadata": {},
   "source": [
    "Exercises 1 through 7 done on pen + paper"
   ]
  },
  {
   "cell_type": "markdown",
   "metadata": {},
   "source": [
    "## Exercise 8\n",
    "Load the MNIST dataset, split into a training set, validation set and test set"
   ]
  },
  {
   "cell_type": "code",
   "execution_count": 27,
   "metadata": {},
   "outputs": [],
   "source": [
    "random_state = 568743"
   ]
  },
  {
   "cell_type": "code",
   "execution_count": 28,
   "metadata": {},
   "outputs": [],
   "source": [
    "from joblib import dump, load\n",
    "\n",
    "model_fpath = 'saved_models/3_'\n",
    "mnist = load(model_fpath+'mnist.joblib')"
   ]
  },
  {
   "cell_type": "code",
   "execution_count": 29,
   "metadata": {},
   "outputs": [],
   "source": [
    "X = mnist['data']\n",
    "y = mnist['target']"
   ]
  },
  {
   "cell_type": "code",
   "execution_count": 30,
   "metadata": {},
   "outputs": [],
   "source": [
    "# recall data is already shuffled into training and test set\n",
    "X_train_val, y_train_val, X_test, y_test = X[:60000], y[:60000], X[60000:], y[60000:]"
   ]
  },
  {
   "cell_type": "markdown",
   "metadata": {},
   "source": [
    "Let's use 50k instances for training and 10k for validating"
   ]
  },
  {
   "cell_type": "code",
   "execution_count": 31,
   "metadata": {},
   "outputs": [
    {
     "name": "stdout",
     "output_type": "stream",
     "text": [
      "(50000, 784) (50000,)\n",
      "(10000, 784) (10000,)\n"
     ]
    }
   ],
   "source": [
    "X_train, X_val, y_train, y_val = train_test_split(X_train_val, y_train_val, train_size=5/6, \n",
    "                                                  random_state=random_state)\n",
    "print(X_train.shape, y_train.shape)\n",
    "print(X_val.shape, y_val.shape)"
   ]
  },
  {
   "cell_type": "markdown",
   "metadata": {},
   "source": [
    "Recall from exercises in chapter 3 that using a MinMaxScaler helps"
   ]
  },
  {
   "cell_type": "code",
   "execution_count": 32,
   "metadata": {},
   "outputs": [],
   "source": [
    "from sklearn.preprocessing import MinMaxScaler\n",
    "scaler = MinMaxScaler()\n",
    "\n",
    "X_train_scaled = scaler.fit_transform(X_train)\n",
    "X_val_scaled = scaler.transform(X_val)\n",
    "X_test_scaled = scaler.transform(X_test)"
   ]
  },
  {
   "cell_type": "markdown",
   "metadata": {},
   "source": [
    "Train various classifiers on the MNIST dataset:\n",
    "- Random Forest classifier\n",
    "- Extra trees classifier\n",
    "- SVM classifier"
   ]
  },
  {
   "cell_type": "code",
   "execution_count": 33,
   "metadata": {},
   "outputs": [
    {
     "name": "stdout",
     "output_type": "stream",
     "text": [
      "Loading pickle files\n"
     ]
    }
   ],
   "source": [
    "from sklearn.ensemble import RandomForestClassifier, ExtraTreesClassifier\n",
    "from sklearn.svm import SVC\n",
    "from sklearn.model_selection import RandomizedSearchCV\n",
    "from sklearn.utils.fixes import loguniform\n",
    "import scipy.stats as stats\n",
    "import time\n",
    "\n",
    "RELOAD = True\n",
    "model_fpath = 'saved_models/7_'\n",
    "\n",
    "tree_clf = RandomForestClassifier(random_state=random_state)\n",
    "extra_clf = ExtraTreesClassifier(random_state=random_state)\n",
    "svc_clf = SVC(random_state=random_state, probability=True)\n",
    "\n",
    "if RELOAD:\n",
    "    print(f'Loading pickle files')\n",
    "    tree_clf = load(model_fpath + 'tree_clf.joblib')\n",
    "    extra_clf = load(model_fpath + 'extra_clf.joblib')\n",
    "    svc_clf = load(model_fpath + 'svc_clf.joblib')\n",
    "else:\n",
    "    print('Beginning RandomForest fitting')\n",
    "    tree_start = time.time()\n",
    "    tree_clf.fit(X_train_scaled, y_train)\n",
    "    print(f'Done in {(time.time()- tree_start)/60.0:.2f} minutes\\n')\n",
    "\n",
    "    print('Beginning ExtraTree fitting')\n",
    "    extra_start = time.time()\n",
    "    extra_clf.fit(X_train_scaled, y_train)\n",
    "    print(f'Done in {(time.time()- extra_start)/60.0:.2f} minutes\\n')\n",
    "\n",
    "    print('Beginning SVC fitting')\n",
    "    svc_start = time.time()\n",
    "    svc_clf.fit(X_train_scaled, y_train)\n",
    "    print(f'Done in {(time.time()- svc_start)/60.0:.2f} minutes\\n')\n",
    "\n",
    "    print(f'Total time taken {(time.time()- tree_start)/60.0:.2f} minutes')\n",
    "    print(f'Saving files as pickle for fast re-loading')\n",
    "    dump(tree_clf, model_fpath + 'tree_clf.joblib')\n",
    "    dump(extra_clf, model_fpath + 'extra_clf.joblib')\n",
    "    dump(svc_clf, model_fpath + 'svc_clf.joblib')"
   ]
  },
  {
   "cell_type": "code",
   "execution_count": 34,
   "metadata": {},
   "outputs": [],
   "source": [
    "predictions = [\n",
    "    ('RandomForest', tree_clf.predict(X_val_scaled), tree_clf.predict_proba(X_val_scaled)), \n",
    "    ('ExtraTree', extra_clf.predict(X_val_scaled), extra_clf.predict_proba(X_val_scaled)), \n",
    "    ('SVC',  svc_clf.predict(X_val_scaled), svc_clf.predict_proba(X_val_scaled))\n",
    "]"
   ]
  },
  {
   "cell_type": "code",
   "execution_count": 35,
   "metadata": {},
   "outputs": [],
   "source": [
    "from sklearn.metrics import precision_score, recall_score, f1_score, accuracy_score\n",
    "\n",
    "def print_model_scores(y_actual, y_preds, model, average=None):\n",
    "    precision = precision_score(y_actual, y_preds, average=average)\n",
    "    recall = recall_score(y_actual, y_preds, average=average)\n",
    "    f1 = f1_score(y_actual, y_preds, average=average)\n",
    "    accuracy = accuracy_score(y_actual, y_preds)\n",
    "\n",
    "    print(f'------- {model} results ------')\n",
    "    print(f'Accuracy: {accuracy:.3f}%')\n",
    "    print(f'Precision: {precision:.3f}%')\n",
    "    print(f'Recall: {recall:.3f}%')\n",
    "    print(f'F1: {f1*100:.3f}%\\n')"
   ]
  },
  {
   "cell_type": "markdown",
   "metadata": {},
   "source": [
    "Next we build a voting classifier out of the tree predictors and test it on the validation set"
   ]
  },
  {
   "cell_type": "code",
   "execution_count": 36,
   "metadata": {},
   "outputs": [],
   "source": [
    "from sklearn.base import BaseEstimator, TransformerMixin\n",
    "\n",
    "class VotingClassifier(BaseEstimator, TransformerMixin):\n",
    "    def get_ensemble_preds_(self, X):\n",
    "        self.ensemble_preds_ = [model.predict(X) for model in self.ensemble]\n",
    "\n",
    "    def get_ensemble_pred_probas_(self, X):\n",
    "        if self.classifier_type == 'hard':\n",
    "            raise Exception('Cannot get class probabilities. \\\n",
    "                  VotingClassifier has been instantiated as hard-voting classifier')\n",
    "        else:\n",
    "            self.ensemble_pred_probas_ = np.array([model.predict_proba(X) \n",
    "                                                   for model in self.ensemble])\n",
    "    \n",
    "    def predict_hard_(self, X):\n",
    "        self.get_ensemble_preds_(X)\n",
    "        stacked_preds = np.r_[self.ensemble_preds_].reshape(len(self.ensemble), -1)\n",
    "        y_preds = stats.mode(stacked_preds, axis=0).mode.ravel()\n",
    "        return y_preds\n",
    "    \n",
    "    def predict_soft_(self, X):\n",
    "        self.get_ensemble_pred_probas_(X)\n",
    "        y_pred_probas = np.mean(self.ensemble_pred_probas_, axis=0)\n",
    "        y_preds = np.argmax(y_pred_probas, axis=1)\n",
    "        return y_pred_probas, y_preds.astype(str)\n",
    "    \n",
    "    def predict(self, X):\n",
    "        if self.classifier_type=='hard':\n",
    "            return self.predict_hard_(X)\n",
    "        elif self.classifier_type=='soft':\n",
    "            return self.predict_soft_(X)\n",
    "        else:\n",
    "            raise(f'Classifier type {classifier_type} is not valid. Only hard and soft \\\n",
    "            voting is available.')\n",
    "            \n",
    "    def __init__(self, ensemble, classifier_type='hard'):\n",
    "        self.ensemble = ensemble\n",
    "        self.classifier_type = classifier_type\n",
    "        \n",
    "        self.ensemble_preds_ = None\n",
    "        self.ensemble_pred_probas_ = None\n",
    "        "
   ]
  },
  {
   "cell_type": "code",
   "execution_count": 37,
   "metadata": {},
   "outputs": [],
   "source": [
    "ensemble = [tree_clf, extra_clf, svc_clf]\n",
    "hard_vote_clf = VotingClassifier(ensemble)\n",
    "soft_vote_clf = VotingClassifier(ensemble, classifier_type='soft')"
   ]
  },
  {
   "cell_type": "code",
   "execution_count": 38,
   "metadata": {},
   "outputs": [],
   "source": [
    "hard_vote_preds = hard_vote_clf.predict(X_val_scaled)"
   ]
  },
  {
   "cell_type": "code",
   "execution_count": 39,
   "metadata": {},
   "outputs": [],
   "source": [
    "model_names = ['tree_clf', 'extra_clf', 'svc_clf']\n",
    "individual_predictions = [(name, y_preds) \n",
    "                          for name, y_preds in zip(model_names, hard_vote_clf.ensemble_preds_)]"
   ]
  },
  {
   "cell_type": "code",
   "execution_count": 40,
   "metadata": {},
   "outputs": [
    {
     "data": {
      "text/plain": [
       "[('tree_clf', array(['1', '4', '3', ..., '5', '0', '0'], dtype=object)),\n",
       " ('extra_clf', array(['1', '4', '3', ..., '5', '0', '0'], dtype=object)),\n",
       " ('svc_clf', array(['1', '4', '3', ..., '5', '0', '0'], dtype=object))]"
      ]
     },
     "execution_count": 40,
     "metadata": {},
     "output_type": "execute_result"
    }
   ],
   "source": [
    "individual_predictions"
   ]
  },
  {
   "cell_type": "code",
   "execution_count": 41,
   "metadata": {},
   "outputs": [],
   "source": [
    "soft_vote_probas, soft_vote_preds = soft_vote_clf.predict(X_val_scaled)"
   ]
  },
  {
   "cell_type": "code",
   "execution_count": 42,
   "metadata": {},
   "outputs": [
    {
     "name": "stdout",
     "output_type": "stream",
     "text": [
      "------- tree_clf results ------\n",
      "Accuracy: 0.966%\n",
      "Precision: 0.966%\n",
      "Recall: 0.966%\n",
      "F1: 96.576%\n",
      "\n",
      "------- extra_clf results ------\n",
      "Accuracy: 0.970%\n",
      "Precision: 0.970%\n",
      "Recall: 0.970%\n",
      "F1: 96.976%\n",
      "\n",
      "------- svc_clf results ------\n",
      "Accuracy: 0.976%\n",
      "Precision: 0.976%\n",
      "Recall: 0.976%\n",
      "F1: 97.618%\n",
      "\n",
      "------- Hard voting results ------\n",
      "Accuracy: 0.971%\n",
      "Precision: 0.971%\n",
      "Recall: 0.971%\n",
      "F1: 97.124%\n",
      "\n",
      "------- Soft voting results ------\n",
      "Accuracy: 0.978%\n",
      "Precision: 0.978%\n",
      "Recall: 0.978%\n",
      "F1: 97.782%\n",
      "\n"
     ]
    }
   ],
   "source": [
    "voting_clfs = [('Hard voting', hard_vote_preds), \n",
    "               ('Soft voting', soft_vote_preds)]\n",
    "\n",
    "new_predictions = individual_predictions + voting_clfs\n",
    "for (model, y_preds) in new_predictions:\n",
    "    print_model_scores(y_val, y_preds, model, 'macro')"
   ]
  },
  {
   "cell_type": "markdown",
   "metadata": {},
   "source": [
    "Soft voting indeed improve results!"
   ]
  },
  {
   "cell_type": "markdown",
   "metadata": {},
   "source": [
    "## Exercise 9\n",
    "Run the individual classifiers (not including the voting ones) to make predictions on the validation set and generate a new training set with the predictions"
   ]
  },
  {
   "cell_type": "code",
   "execution_count": 43,
   "metadata": {},
   "outputs": [],
   "source": [
    "X_train_blender = np.array([y_pred for name, y_pred in individual_predictions]).T\n",
    "y_train_blender = y_val.copy()"
   ]
  },
  {
   "cell_type": "markdown",
   "metadata": {},
   "source": [
    "Now we train a new classifier on this training set"
   ]
  },
  {
   "cell_type": "code",
   "execution_count": 44,
   "metadata": {},
   "outputs": [
    {
     "data": {
      "text/plain": [
       "RandomForestClassifier(bootstrap=True, ccp_alpha=0.0, class_weight=None,\n",
       "                       criterion='gini', max_depth=None, max_features='auto',\n",
       "                       max_leaf_nodes=None, max_samples=None,\n",
       "                       min_impurity_decrease=0.0, min_impurity_split=None,\n",
       "                       min_samples_leaf=1, min_samples_split=2,\n",
       "                       min_weight_fraction_leaf=0.0, n_estimators=100,\n",
       "                       n_jobs=None, oob_score=False, random_state=568743,\n",
       "                       verbose=0, warm_start=False)"
      ]
     },
     "execution_count": 44,
     "metadata": {},
     "output_type": "execute_result"
    }
   ],
   "source": [
    "blender_clf = RandomForestClassifier(random_state=random_state)\n",
    "blender_clf.fit(X_train_blender, y_train_blender)"
   ]
  },
  {
   "cell_type": "markdown",
   "metadata": {},
   "source": [
    "This classifier is now our Blender! Together with our other classifiers we form a stacking\n",
    "ensemble."
   ]
  },
  {
   "cell_type": "markdown",
   "metadata": {},
   "source": [
    "Now for each image in the test set, make predictions with your classifiers, feed them into the blender to get the ensembles predictions. How does it compare to the voting classifier we trained earlier?"
   ]
  },
  {
   "cell_type": "code",
   "execution_count": 75,
   "metadata": {},
   "outputs": [],
   "source": [
    "test_predictions = np.array([model.predict(X_test_scaled) for model in [tree_clf, extra_clf, svc_clf]])"
   ]
  },
  {
   "cell_type": "code",
   "execution_count": 79,
   "metadata": {},
   "outputs": [],
   "source": [
    "# Need to transpose before making predictions\n",
    "blender_y_preds = blender_clf.predict(test_predictions.T)"
   ]
  },
  {
   "cell_type": "code",
   "execution_count": 82,
   "metadata": {},
   "outputs": [
    {
     "name": "stdout",
     "output_type": "stream",
     "text": [
      "------- tree_clf results ------\n",
      "Accuracy: 0.967%\n",
      "Precision: 0.967%\n",
      "Recall: 0.967%\n",
      "F1: 96.706%\n",
      "\n",
      "------- extra_clf results ------\n",
      "Accuracy: 0.972%\n",
      "Precision: 0.971%\n",
      "Recall: 0.971%\n",
      "F1: 97.135%\n",
      "\n",
      "------- svc_clf results ------\n",
      "Accuracy: 0.978%\n",
      "Precision: 0.978%\n",
      "Recall: 0.978%\n",
      "F1: 97.822%\n",
      "\n",
      "------- blender results ------\n",
      "Accuracy: 0.976%\n",
      "Precision: 0.976%\n",
      "Recall: 0.976%\n",
      "F1: 97.621%\n",
      "\n"
     ]
    }
   ],
   "source": [
    "model_test_predictions = (\n",
    "    [(model, y_preds) for model, y_preds in zip(model_names, test_predictions)] + \n",
    "    [('blender', blender_y_preds)]\n",
    ")\n",
    "\n",
    "for model, y_preds in model_test_predictions:\n",
    "    print_model_scores(y_test, y_preds, model, 'macro')"
   ]
  },
  {
   "cell_type": "markdown",
   "metadata": {},
   "source": [
    "Blender is slightly better than hard voting but slightly worse than soft voting classifier."
   ]
  }
 ],
 "metadata": {
  "kernelspec": {
   "display_name": "Python 3",
   "language": "python",
   "name": "python3"
  },
  "language_info": {
   "codemirror_mode": {
    "name": "ipython",
    "version": 3
   },
   "file_extension": ".py",
   "mimetype": "text/x-python",
   "name": "python",
   "nbconvert_exporter": "python",
   "pygments_lexer": "ipython3",
   "version": "3.8.2"
  },
  "varInspector": {
   "cols": {
    "lenName": 16,
    "lenType": 16,
    "lenVar": 40
   },
   "kernels_config": {
    "python": {
     "delete_cmd_postfix": "",
     "delete_cmd_prefix": "del ",
     "library": "var_list.py",
     "varRefreshCmd": "print(var_dic_list())"
    },
    "r": {
     "delete_cmd_postfix": ") ",
     "delete_cmd_prefix": "rm(",
     "library": "var_list.r",
     "varRefreshCmd": "cat(var_dic_list()) "
    }
   },
   "types_to_exclude": [
    "module",
    "function",
    "builtin_function_or_method",
    "instance",
    "_Feature"
   ],
   "window_display": false
  }
 },
 "nbformat": 4,
 "nbformat_minor": 2
}
