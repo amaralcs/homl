{
 "cells": [
  {
   "cell_type": "code",
   "execution_count": 165,
   "metadata": {},
   "outputs": [],
   "source": [
    "import numpy as np\n",
    "import tensorflow as tf\n",
    "from tensorflow import keras\n",
    "from tensorflow.keras.datasets import mnist\n",
    "from tensorflow.keras.layers import Conv2D, MaxPool2D, Dense, Dropout, Flatten, Input\n",
    "from tensorflow.keras.models import Sequential\n",
    "from tensorflow.keras.optimizers import SGD, Nadam\n",
    "import matplotlib.pyplot as plt\n",
    "\n",
    "np.random.seed(88)\n",
    "tf.random.set_seed(88)"
   ]
  },
  {
   "cell_type": "markdown",
   "metadata": {},
   "source": [
    "# 9) Build your own CNN from scratch and try to achive highest possible accuracy on MNIST."
   ]
  },
  {
   "cell_type": "code",
   "execution_count": 130,
   "metadata": {},
   "outputs": [],
   "source": [
    "(X_train_full, y_train), (X_test, y_test) = mnist.load_data()\n",
    "\n",
    "validation_size = 5000\n",
    "X_train, y_train = X_train_full[:-validation_size], y_train[:-validation_size]\n",
    "X_valid, y_valid = X_train_full[-validation_size:], y_train[-validation_size:]\n",
    "\n",
    "X_train = X_train / 255.\n",
    "X_valid = X_valid / 255.\n",
    "X_test = X_test / 255.\n",
    "\n",
    "X_train = X_train[..., np.newaxis]\n",
    "X_valid = X_valid[..., np.newaxis]\n",
    "X_test = X_test[..., np.newaxis]"
   ]
  },
  {
   "cell_type": "code",
   "execution_count": 177,
   "metadata": {},
   "outputs": [
    {
     "name": "stdout",
     "output_type": "stream",
     "text": [
      "Showing image of a 7\n"
     ]
    },
    {
     "data": {
      "image/png": "[encoded data removed]",
      "text/plain": [
       "<Figure size 432x288 with 1 Axes>"
      ]
     },
     "metadata": {
      "needs_background": "light"
     },
     "output_type": "display_data"
    }
   ],
   "source": [
    "print(f'Showing image of a {y_train[15]}')\n",
    "digit = X_train[15].reshape(28, 28)\n",
    "plt.imshow(digit)\n",
    "plt.axis('off')\n",
    "plt.show()"
   ]
  },
  {
   "cell_type": "code",
   "execution_count": 178,
   "metadata": {},
   "outputs": [
    {
     "name": "stdout",
     "output_type": "stream",
     "text": [
      "Input has shape\n"
     ]
    },
    {
     "data": {
      "text/plain": [
       "(55000, 28, 28, 1)"
      ]
     },
     "execution_count": 178,
     "metadata": {},
     "output_type": "execute_result"
    }
   ],
   "source": [
    "print('Input has shape')\n",
    "X_train.shape"
   ]
  },
  {
   "cell_type": "code",
   "execution_count": 179,
   "metadata": {},
   "outputs": [
    {
     "name": "stdout",
     "output_type": "stream",
     "text": [
      "These are the possible output classes\n"
     ]
    },
    {
     "data": {
      "text/plain": [
       "array([0, 1, 2, 3, 4, 5, 6, 7, 8, 9], dtype=uint8)"
      ]
     },
     "execution_count": 179,
     "metadata": {},
     "output_type": "execute_result"
    }
   ],
   "source": [
    "print('These are the possible output classes')\n",
    "np.unique(y_train, axis=0)"
   ]
  },
  {
   "cell_type": "code",
   "execution_count": 189,
   "metadata": {},
   "outputs": [],
   "source": [
    "activation = 'elu'\n",
    "model_params = {\n",
    "    'activation': activation,\n",
    "    'padding': 'SAME',\n",
    "    'kernel_initializer':'he_normal'\n",
    "}\n",
    "optimizer_params = {\n",
    "    'optimizer': Nadam(learning_rate=0.001),\n",
    "    'loss': 'sparse_categorical_crossentropy',\n",
    "    'metrics': ['accuracy']\n",
    "}\n",
    "train_params = {\n",
    "    'epochs': 5,\n",
    "    'batch_size': 32,\n",
    "    'validation_data': (X_valid, y_valid)\n",
    "}"
   ]
  },
  {
   "cell_type": "markdown",
   "metadata": {},
   "source": [
    "Let's first build a basic dense model to establish a baseline"
   ]
  },
  {
   "cell_type": "code",
   "execution_count": 190,
   "metadata": {},
   "outputs": [
    {
     "name": "stdout",
     "output_type": "stream",
     "text": [
      "Model: \"sequential_46\"\n",
      "_________________________________________________________________\n",
      "Layer (type)                 Output Shape              Param #   \n",
      "=================================================================\n",
      "flatten_47 (Flatten)         (None, 784)               0         \n",
      "_________________________________________________________________\n",
      "dense_143 (Dense)            (None, 100)               78500     \n",
      "_________________________________________________________________\n",
      "dense_144 (Dense)            (None, 200)               20200     \n",
      "_________________________________________________________________\n",
      "dense_145 (Dense)            (None, 10)                2010      \n",
      "=================================================================\n",
      "Total params: 100,710\n",
      "Trainable params: 100,710\n",
      "Non-trainable params: 0\n",
      "_________________________________________________________________\n",
      "Epoch 1/5\n",
      "1719/1719 [==============================] - 4s 2ms/step - loss: 0.2757 - accuracy: 0.9191 - val_loss: 9.9726 - val_accuracy: 0.0980\n",
      "Epoch 2/5\n",
      "1719/1719 [==============================] - 4s 3ms/step - loss: 0.1277 - accuracy: 0.9612 - val_loss: 11.5257 - val_accuracy: 0.0980\n",
      "Epoch 3/5\n",
      "1719/1719 [==============================] - 4s 3ms/step - loss: 0.0894 - accuracy: 0.9718 - val_loss: 13.2907 - val_accuracy: 0.0978\n",
      "Epoch 4/5\n",
      "1719/1719 [==============================] - 4s 2ms/step - loss: 0.0689 - accuracy: 0.9782 - val_loss: 13.8046 - val_accuracy: 0.0970\n",
      "Epoch 5/5\n",
      "1719/1719 [==============================] - 4s 2ms/step - loss: 0.0537 - accuracy: 0.9823 - val_loss: 16.6549 - val_accuracy: 0.0978\n"
     ]
    },
    {
     "data": {
      "text/plain": [
       "<tensorflow.python.keras.callbacks.History at 0x7f7e718e8490>"
      ]
     },
     "execution_count": 190,
     "metadata": {},
     "output_type": "execute_result"
    }
   ],
   "source": [
    "dense_model = Sequential([\n",
    "    Input(shape=X_train.shape[1:]),\n",
    "    Flatten(),\n",
    "    Dense(100, activation=activation),\n",
    "    Dense(200, activation=activation),\n",
    "    Dense(10, activation='softmax')])\n",
    "dense_model.compile(**optimizer_params)\n",
    "dense_model.summary()\n",
    "dense_model.fit(X_train, y_train, **train_params)"
   ]
  },
  {
   "cell_type": "markdown",
   "metadata": {},
   "source": [
    "And let's check how it performs against the test set"
   ]
  },
  {
   "cell_type": "code",
   "execution_count": 191,
   "metadata": {},
   "outputs": [
    {
     "name": "stdout",
     "output_type": "stream",
     "text": [
      "313/313 [==============================] - 0s 1ms/step - loss: 0.0824 - accuracy: 0.9750\n"
     ]
    },
    {
     "data": {
      "text/plain": [
       "[0.08238860219717026, 0.9750000238418579]"
      ]
     },
     "execution_count": 191,
     "metadata": {},
     "output_type": "execute_result"
    }
   ],
   "source": [
    "dense_model.evaluate(X_test, y_test)"
   ]
  },
  {
   "cell_type": "markdown",
   "metadata": {},
   "source": [
    "Now for using convolutional layers"
   ]
  },
  {
   "cell_type": "code",
   "execution_count": 192,
   "metadata": {},
   "outputs": [
    {
     "name": "stdout",
     "output_type": "stream",
     "text": [
      "Model: \"sequential_47\"\n",
      "_________________________________________________________________\n",
      "Layer (type)                 Output Shape              Param #   \n",
      "=================================================================\n",
      "conv2d_97 (Conv2D)           (None, 28, 28, 32)        320       \n",
      "_________________________________________________________________\n",
      "max_pooling2d_81 (MaxPooling (None, 14, 14, 32)        0         \n",
      "_________________________________________________________________\n",
      "conv2d_98 (Conv2D)           (None, 14, 14, 64)        18496     \n",
      "_________________________________________________________________\n",
      "max_pooling2d_82 (MaxPooling (None, 7, 7, 64)          0         \n",
      "_________________________________________________________________\n",
      "flatten_48 (Flatten)         (None, 3136)              0         \n",
      "_________________________________________________________________\n",
      "dense_146 (Dense)            (None, 64)                200768    \n",
      "_________________________________________________________________\n",
      "dropout_67 (Dropout)         (None, 64)                0         \n",
      "_________________________________________________________________\n",
      "dense_147 (Dense)            (None, 32)                2080      \n",
      "_________________________________________________________________\n",
      "dropout_68 (Dropout)         (None, 32)                0         \n",
      "_________________________________________________________________\n",
      "dense_148 (Dense)            (None, 10)                330       \n",
      "=================================================================\n",
      "Total params: 221,994\n",
      "Trainable params: 221,994\n",
      "Non-trainable params: 0\n",
      "_________________________________________________________________\n"
     ]
    }
   ],
   "source": [
    "model = Sequential([\n",
    "    Conv2D(32, 3, input_shape=X_train.shape[1:], **model_params),\n",
    "    MaxPool2D(2),\n",
    "    Conv2D(64, 3, **model_params),\n",
    "    MaxPool2D(2),\n",
    "    Flatten(),\n",
    "    Dense(64, activation=activation),\n",
    "    Dropout(0.3),\n",
    "    Dense(32, activation=activation),\n",
    "    Dropout(0.5),\n",
    "    Dense(10, activation='softmax')])\n",
    "model.compile(**optimizer_params)\n",
    "model.summary()"
   ]
  },
  {
   "cell_type": "code",
   "execution_count": 193,
   "metadata": {},
   "outputs": [
    {
     "name": "stdout",
     "output_type": "stream",
     "text": [
      "Epoch 1/5\n",
      "1719/1719 [==============================] - 40s 23ms/step - loss: 0.2890 - accuracy: 0.9218 - val_loss: 14.4607 - val_accuracy: 0.0978\n",
      "Epoch 2/5\n",
      "1719/1719 [==============================] - 43s 25ms/step - loss: 0.1172 - accuracy: 0.9712 - val_loss: 18.7163 - val_accuracy: 0.0972\n",
      "Epoch 3/5\n",
      "1719/1719 [==============================] - 35s 20ms/step - loss: 0.0905 - accuracy: 0.9771 - val_loss: 19.0885 - val_accuracy: 0.0972\n",
      "Epoch 4/5\n",
      "1719/1719 [==============================] - 36s 21ms/step - loss: 0.0781 - accuracy: 0.9810 - val_loss: 22.0263 - val_accuracy: 0.0980\n",
      "Epoch 5/5\n",
      "1719/1719 [==============================] - 36s 21ms/step - loss: 0.0676 - accuracy: 0.9826 - val_loss: 24.2998 - val_accuracy: 0.0982\n"
     ]
    },
    {
     "data": {
      "text/plain": [
       "<tensorflow.python.keras.callbacks.History at 0x7f7e883ff5e0>"
      ]
     },
     "execution_count": 193,
     "metadata": {},
     "output_type": "execute_result"
    }
   ],
   "source": [
    "model.fit(X_train, y_train, **train_params)"
   ]
  },
  {
   "cell_type": "markdown",
   "metadata": {},
   "source": [
    "And evaluating"
   ]
  },
  {
   "cell_type": "code",
   "execution_count": 195,
   "metadata": {},
   "outputs": [
    {
     "name": "stdout",
     "output_type": "stream",
     "text": [
      "313/313 [==============================] - 2s 5ms/step - loss: 0.0595 - accuracy: 0.9850\n"
     ]
    },
    {
     "data": {
      "text/plain": [
       "[0.059456054121255875, 0.9850000143051147]"
      ]
     },
     "execution_count": 195,
     "metadata": {},
     "output_type": "execute_result"
    }
   ],
   "source": [
    "model.evaluate(X_test, y_test)"
   ]
  },
  {
   "cell_type": "markdown",
   "metadata": {},
   "source": [
    "Better results!"
   ]
  }
 ],
 "metadata": {
  "kernelspec": {
   "display_name": "Python 3",
   "language": "python",
   "name": "python3"
  },
  "language_info": {
   "codemirror_mode": {
    "name": "ipython",
    "version": 3
   },
   "file_extension": ".py",
   "mimetype": "text/x-python",
   "name": "python",
   "nbconvert_exporter": "python",
   "pygments_lexer": "ipython3",
   "version": "3.8.2"
  }
 },
 "nbformat": 4,
 "nbformat_minor": 4
}
