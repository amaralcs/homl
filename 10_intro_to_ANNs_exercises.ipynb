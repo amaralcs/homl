{
 "cells": [
  {
   "cell_type": "code",
   "execution_count": 92,
   "metadata": {},
   "outputs": [],
   "source": [
    "import pandas as pd\n",
    "import numpy as np\n",
    "import keras\n",
    "import tensorflow as tf\n",
    "from keras.layers import Input, Dense, Flatten\n",
    "from keras.models import Model\n",
    "from keras import optimizers\n",
    "\n",
    "import matplotlib.pyplot as plt\n",
    "from jupyterthemes import jtplot\n",
    "jtplot.style()\n",
    "%matplotlib inline"
   ]
  },
  {
   "cell_type": "code",
   "execution_count": 53,
   "metadata": {},
   "outputs": [],
   "source": [
    "import os\n",
    "root_logdir = os.path.join(os.curdir, 'my_logs')\n",
    "\n",
    "def get_run_logdir():\n",
    "    import time\n",
    "    run_id = time.strftime(\"run_%Y_%m_%d-%H_%M_%S\")\n",
    "    return os.path.join(root_logdir, run_id)"
   ]
  },
  {
   "cell_type": "code",
   "execution_count": 2,
   "metadata": {},
   "outputs": [
    {
     "name": "stdout",
     "output_type": "stream",
     "text": [
      "Downloading data from https://s3.amazonaws.com/img-datasets/mnist.npz\n",
      "11493376/11490434 [==============================] - 18s 2us/step\n"
     ]
    }
   ],
   "source": [
    "mnist = keras.datasets.mnist.load_data()"
   ]
  },
  {
   "cell_type": "markdown",
   "metadata": {},
   "source": [
    "In addition to splitting the data, we'll also normalize it between 0 - 1"
   ]
  },
  {
   "cell_type": "code",
   "execution_count": 144,
   "metadata": {},
   "outputs": [
    {
     "name": "stdout",
     "output_type": "stream",
     "text": [
      "X_train shape (50000, 28, 28)\n",
      "X_val shape (10000, 28, 28)\n",
      "X_test shape (10000, 28, 28)\n"
     ]
    }
   ],
   "source": [
    "(X_train_full, y_train_full), (X_test, y_test) = mnist\n",
    "val_size = 10000\n",
    "X_train, y_train = X_train_full[:-val_size]/255.0, y_train_full[:-val_size]\n",
    "X_val, y_val = X_train_full[-val_size:]/255.0, y_train_full[-val_size:]\n",
    "\n",
    "print(f'X_train shape {X_train.shape}')\n",
    "print(f'X_val shape {X_val.shape}')\n",
    "print(f'X_test shape {X_test.shape}')\n",
    "\n",
    "num_classes = len(set(y_test))"
   ]
  },
  {
   "cell_type": "code",
   "execution_count": 145,
   "metadata": {},
   "outputs": [],
   "source": [
    "# Scheduler for the learning rate.\n",
    "# if init_lr = 1e-5 and the final learning rate is 10^6 this functions grows the lr\n",
    "# by multiplying it by a constant factor at each iteration\n",
    "def exp_scheduler(epochs, lr, n_iter=50):\n",
    "    return lr * np.exp(np.log(10**6)/n_iter)\n",
    "\n",
    "def lin_scheduler(epochs, lr):\n",
    "    if epochs%10==0 and epochs!=0:\n",
    "        return lr*10\n",
    "    else:\n",
    "        return lr"
   ]
  },
  {
   "cell_type": "code",
   "execution_count": 158,
   "metadata": {
    "scrolled": true
   },
   "outputs": [
    {
     "name": "stdout",
     "output_type": "stream",
     "text": [
      "Model: \"model_1\"\n",
      "_________________________________________________________________\n",
      "Layer (type)                 Output Shape              Param #   \n",
      "=================================================================\n",
      "input_1 (InputLayer)         (None, 28, 28)            0         \n",
      "_________________________________________________________________\n",
      "flatten_1 (Flatten)          (None, 784)               0         \n",
      "_________________________________________________________________\n",
      "dense_1 (Dense)              (None, 100)               78500     \n",
      "_________________________________________________________________\n",
      "dense_2 (Dense)              (None, 100)               10100     \n",
      "_________________________________________________________________\n",
      "dense_3 (Dense)              (None, 10)                1010      \n",
      "=================================================================\n",
      "Total params: 89,610\n",
      "Trainable params: 89,610\n",
      "Non-trainable params: 0\n",
      "_________________________________________________________________\n",
      "Train on 50000 samples, validate on 10000 samples\n",
      "Epoch 1/100\n",
      "50000/50000 [==============================] - 3s 62us/step - loss: 2.3199 - accuracy: 0.1012 - val_loss: 2.3147 - val_accuracy: 0.1019\n",
      "Epoch 2/100\n",
      "50000/50000 [==============================] - 3s 59us/step - loss: 2.3126 - accuracy: 0.1058 - val_loss: 2.3075 - val_accuracy: 0.1059\n",
      "Epoch 3/100\n",
      "50000/50000 [==============================] - 3s 60us/step - loss: 2.3055 - accuracy: 0.1103 - val_loss: 2.3003 - val_accuracy: 0.1104\n",
      "Epoch 4/100\n",
      "50000/50000 [==============================] - 3s 59us/step - loss: 2.2985 - accuracy: 0.1158 - val_loss: 2.2933 - val_accuracy: 0.1152\n",
      "Epoch 5/100\n",
      "50000/50000 [==============================] - 3s 58us/step - loss: 2.2916 - accuracy: 0.1215 - val_loss: 2.2863 - val_accuracy: 0.1215\n",
      "Epoch 6/100\n",
      "50000/50000 [==============================] - 3s 59us/step - loss: 2.2847 - accuracy: 0.1276 - val_loss: 2.2795 - val_accuracy: 0.1287\n",
      "Epoch 7/100\n",
      "50000/50000 [==============================] - 3s 65us/step - loss: 2.2780 - accuracy: 0.1334 - val_loss: 2.2727 - val_accuracy: 0.1359\n",
      "Epoch 8/100\n",
      "50000/50000 [==============================] - 3s 56us/step - loss: 2.2713 - accuracy: 0.1395 - val_loss: 2.2660 - val_accuracy: 0.1415\n",
      "Epoch 9/100\n",
      "50000/50000 [==============================] - 3s 55us/step - loss: 2.2647 - accuracy: 0.1455 - val_loss: 2.2593 - val_accuracy: 0.1480\n",
      "Epoch 10/100\n",
      "50000/50000 [==============================] - 3s 58us/step - loss: 2.2582 - accuracy: 0.1528 - val_loss: 2.2527 - val_accuracy: 0.1541\n",
      "Epoch 11/100\n",
      "50000/50000 [==============================] - 3s 57us/step - loss: 2.2234 - accuracy: 0.1975 - val_loss: 2.1885 - val_accuracy: 0.2473\n",
      "Epoch 12/100\n",
      "50000/50000 [==============================] - 3s 57us/step - loss: 2.1616 - accuracy: 0.2941 - val_loss: 2.1250 - val_accuracy: 0.3477\n",
      "Epoch 13/100\n",
      "50000/50000 [==============================] - 3s 56us/step - loss: 2.0994 - accuracy: 0.3885 - val_loss: 2.0598 - val_accuracy: 0.4336\n",
      "Epoch 14/100\n",
      "50000/50000 [==============================] - 3s 55us/step - loss: 2.0348 - accuracy: 0.4570 - val_loss: 1.9914 - val_accuracy: 0.4988\n",
      "Epoch 15/100\n",
      "50000/50000 [==============================] - 3s 57us/step - loss: 1.9669 - accuracy: 0.5080 - val_loss: 1.9192 - val_accuracy: 0.5453\n",
      "Epoch 16/100\n",
      "50000/50000 [==============================] - 3s 56us/step - loss: 1.8952 - accuracy: 0.5503 - val_loss: 1.8431 - val_accuracy: 0.5839\n",
      "Epoch 17/100\n",
      "50000/50000 [==============================] - 3s 58us/step - loss: 1.8198 - accuracy: 0.5858 - val_loss: 1.7635 - val_accuracy: 0.6186\n",
      "Epoch 18/100\n",
      "50000/50000 [==============================] - 3s 56us/step - loss: 1.7410 - accuracy: 0.6187 - val_loss: 1.6810 - val_accuracy: 0.6565\n",
      "Epoch 19/100\n",
      "50000/50000 [==============================] - 3s 57us/step - loss: 1.6598 - accuracy: 0.6514 - val_loss: 1.5968 - val_accuracy: 0.6892\n",
      "Epoch 20/100\n",
      "50000/50000 [==============================] - 3s 54us/step - loss: 1.5776 - accuracy: 0.6804 - val_loss: 1.5121 - val_accuracy: 0.7177\n",
      "Epoch 21/100\n",
      "50000/50000 [==============================] - 3s 57us/step - loss: 1.1827 - accuracy: 0.7671 - val_loss: 0.8615 - val_accuracy: 0.8307\n",
      "Epoch 22/100\n",
      "50000/50000 [==============================] - 3s 57us/step - loss: 0.7589 - accuracy: 0.8290 - val_loss: 0.6049 - val_accuracy: 0.8625\n",
      "Epoch 23/100\n",
      "50000/50000 [==============================] - 3s 58us/step - loss: 0.5888 - accuracy: 0.8544 - val_loss: 0.4926 - val_accuracy: 0.8818\n",
      "Epoch 24/100\n",
      "50000/50000 [==============================] - 3s 58us/step - loss: 0.5037 - accuracy: 0.8695 - val_loss: 0.4325 - val_accuracy: 0.8910\n",
      "Epoch 25/100\n",
      "50000/50000 [==============================] - 3s 57us/step - loss: 0.4523 - accuracy: 0.8798 - val_loss: 0.3938 - val_accuracy: 0.8976\n",
      "Epoch 26/100\n",
      "50000/50000 [==============================] - 3s 58us/step - loss: 0.4178 - accuracy: 0.8869 - val_loss: 0.3674 - val_accuracy: 0.9021\n",
      "Epoch 27/100\n",
      "50000/50000 [==============================] - 3s 55us/step - loss: 0.3926 - accuracy: 0.8922 - val_loss: 0.3482 - val_accuracy: 0.9062\n",
      "Epoch 28/100\n",
      "50000/50000 [==============================] - 3s 59us/step - loss: 0.3732 - accuracy: 0.8971 - val_loss: 0.3333 - val_accuracy: 0.9084\n",
      "Epoch 29/100\n",
      "50000/50000 [==============================] - 3s 57us/step - loss: 0.3576 - accuracy: 0.9006 - val_loss: 0.3222 - val_accuracy: 0.9096\n",
      "Epoch 30/100\n",
      "50000/50000 [==============================] - 3s 57us/step - loss: 0.3446 - accuracy: 0.9036 - val_loss: 0.3108 - val_accuracy: 0.9134s - - ETA: 0s - loss: 0\n",
      "Epoch 31/100\n",
      "50000/50000 [==============================] - 3s 58us/step - loss: 0.3086 - accuracy: 0.9125 - val_loss: 0.2575 - val_accuracy: 0.9279\n",
      "Epoch 32/100\n",
      "50000/50000 [==============================] - 3s 54us/step - loss: 0.2587 - accuracy: 0.9257 - val_loss: 0.2275 - val_accuracy: 0.9343\n",
      "Epoch 33/100\n",
      "50000/50000 [==============================] - 3s 57us/step - loss: 0.2269 - accuracy: 0.9346 - val_loss: 0.2076 - val_accuracy: 0.9403\n",
      "Epoch 34/100\n",
      "50000/50000 [==============================] - 3s 57us/step - loss: 0.2030 - accuracy: 0.9411 - val_loss: 0.1870 - val_accuracy: 0.9482\n",
      "Epoch 35/100\n",
      "50000/50000 [==============================] - 3s 65us/step - loss: 0.1832 - accuracy: 0.9471 - val_loss: 0.1717 - val_accuracy: 0.9519\n",
      "Epoch 36/100\n",
      "50000/50000 [==============================] - 3s 63us/step - loss: 0.1670 - accuracy: 0.9521 - val_loss: 0.1639 - val_accuracy: 0.9548\n",
      "Epoch 37/100\n",
      "50000/50000 [==============================] - 3s 66us/step - loss: 0.1538 - accuracy: 0.9552 - val_loss: 0.1547 - val_accuracy: 0.9567\n",
      "Epoch 38/100\n",
      "50000/50000 [==============================] - 3s 57us/step - loss: 0.1416 - accuracy: 0.9590 - val_loss: 0.1425 - val_accuracy: 0.9600\n",
      "Epoch 39/100\n",
      "50000/50000 [==============================] - 3s 62us/step - loss: 0.1317 - accuracy: 0.9622 - val_loss: 0.1334 - val_accuracy: 0.9628\n",
      "Epoch 40/100\n",
      "50000/50000 [==============================] - 3s 57us/step - loss: 0.1224 - accuracy: 0.9645 - val_loss: 0.1273 - val_accuracy: 0.9651\n",
      "Epoch 41/100\n",
      "50000/50000 [==============================] - 3s 56us/step - loss: 0.1548 - accuracy: 0.9537 - val_loss: 0.1201 - val_accuracy: 0.9655\n",
      "Epoch 42/100\n",
      "50000/50000 [==============================] - 3s 57us/step - loss: 0.0997 - accuracy: 0.9695 - val_loss: 0.1657 - val_accuracy: 0.9497\n",
      "Epoch 43/100\n",
      "50000/50000 [==============================] - 3s 59us/step - loss: 0.0752 - accuracy: 0.9769 - val_loss: 0.1090 - val_accuracy: 0.9685\n",
      "Epoch 44/100\n",
      "50000/50000 [==============================] - 3s 60us/step - loss: 0.0605 - accuracy: 0.9813 - val_loss: 0.0930 - val_accuracy: 0.9737\n",
      "Epoch 45/100\n",
      "50000/50000 [==============================] - 3s 60us/step - loss: 0.0480 - accuracy: 0.9846 - val_loss: 0.0851 - val_accuracy: 0.9759\n",
      "Epoch 46/100\n",
      "50000/50000 [==============================] - 3s 58us/step - loss: 0.0400 - accuracy: 0.9877 - val_loss: 0.0977 - val_accuracy: 0.9727\n",
      "Epoch 47/100\n",
      "50000/50000 [==============================] - 3s 61us/step - loss: 0.0313 - accuracy: 0.9901 - val_loss: 0.0866 - val_accuracy: 0.9765\n",
      "Epoch 48/100\n",
      "50000/50000 [==============================] - 3s 56us/step - loss: 0.0273 - accuracy: 0.9914 - val_loss: 0.0919 - val_accuracy: 0.9751\n"
     ]
    },
    {
     "name": "stdout",
     "output_type": "stream",
     "text": [
      "Epoch 49/100\n",
      "50000/50000 [==============================] - 3s 58us/step - loss: 0.0213 - accuracy: 0.9934 - val_loss: 0.1050 - val_accuracy: 0.9732\n",
      "Epoch 50/100\n",
      "50000/50000 [==============================] - 3s 62us/step - loss: 0.0163 - accuracy: 0.9948 - val_loss: 0.1178 - val_accuracy: 0.9704\n",
      "Epoch 51/100\n",
      "50000/50000 [==============================] - 3s 65us/step - loss: 3.4504 - accuracy: 0.1087 - val_loss: 2.3052 - val_accuracy: 0.1030\n",
      "Epoch 52/100\n",
      "50000/50000 [==============================] - 3s 62us/step - loss: 2.3058 - accuracy: 0.1091 - val_loss: 2.3108 - val_accuracy: 0.1090\n",
      "Epoch 53/100\n",
      "50000/50000 [==============================] - 3s 60us/step - loss: 2.3083 - accuracy: 0.1051 - val_loss: 2.3210 - val_accuracy: 0.1009\n",
      "Epoch 54/100\n",
      "50000/50000 [==============================] - 3s 58us/step - loss: 2.3092 - accuracy: 0.1046 - val_loss: 2.3146 - val_accuracy: 0.0991\n",
      "Epoch 55/100\n",
      "50000/50000 [==============================] - 3s 53us/step - loss: 2.3110 - accuracy: 0.1075 - val_loss: 2.3151 - val_accuracy: 0.1064\n"
     ]
    }
   ],
   "source": [
    "keras.backend.clear_session()\n",
    "np.random.seed(42)\n",
    "tf.random.set_seed(42)\n",
    "n_neurons = 100\n",
    "activation = 'relu'\n",
    "learning_rate = 1e-5\n",
    "epochs = 100\n",
    "batch_size = 32\n",
    "es_patience = 10\n",
    "optimizer = optimizers.SGD(lr=learning_rate)\n",
    "callbacks = [keras.callbacks.TensorBoard(get_run_logdir()),\n",
    "             keras.callbacks.EarlyStopping(patience=es_patience, restore_best_weights=True),\n",
    "             keras.callbacks.LearningRateScheduler(lin_scheduler)]\n",
    "\n",
    "inputs = Input(shape=X_train.shape[1:])\n",
    "flatten = Flatten()(inputs)\n",
    "hidden1 = Dense(n_neurons, activation=activation)(flatten)\n",
    "hidden2 = Dense(n_neurons, activation=activation)(hidden1)\n",
    "output = Dense(10, activation='softmax')(hidden2)\n",
    "\n",
    "model = Model(inputs=inputs, outputs=output)\n",
    "model.compile(loss='sparse_categorical_crossentropy', \n",
    "              optimizer=optimizer,\n",
    "              metrics=['accuracy'])\n",
    "model.summary()\n",
    "\n",
    "model.fit(X_train, y_train, \n",
    "          epochs=epochs, \n",
    "          validation_data=(X_val, y_val), \n",
    "          batch_size=batch_size,\n",
    "          callbacks=callbacks)\n",
    "history = model.history.history"
   ]
  },
  {
   "cell_type": "code",
   "execution_count": 159,
   "metadata": {},
   "outputs": [],
   "source": [
    "def plot_model_loss(history):\n",
    "    fig, ax = plt.subplots(figsize=(10,4))\n",
    "    \n",
    "    lr = history['lr']\n",
    "    log_lr = np.log(lr)\n",
    "    ax.plot(log_lr, history['loss'], \n",
    "            marker='.', linestyle='-', label='train_loss', alpha=0.7)\n",
    "    ax.plot(log_lr, history['val_loss'],\n",
    "            marker='.', linestyle='-', label='val_loss', alpha=0.7)\n",
    "    ax.legend()\n",
    "    ax.set_title('Learning Rate as a function of loss')\n",
    "    ax.set_xlabel('learning rate')\n",
    "    ax.set_ylabel('loss')\n",
    "    \n",
    "    fig.show()"
   ]
  },
  {
   "cell_type": "code",
   "execution_count": 160,
   "metadata": {},
   "outputs": [
    {
     "data": {
      "image/png": "[encoded data removed]",
      "text/plain": [
       "<Figure size 720x288 with 1 Axes>"
      ]
     },
     "metadata": {
      "needs_background": "dark"
     },
     "output_type": "display_data"
    }
   ],
   "source": [
    "plot_model_loss(history)"
   ]
  },
  {
   "cell_type": "markdown",
   "metadata": {},
   "source": [
    "Note how the loss shoots up after a certain point. we want the learning rate around that point. (also check the tensorboard visualizations for this)"
   ]
  },
  {
   "cell_type": "code",
   "execution_count": 163,
   "metadata": {},
   "outputs": [
    {
     "name": "stdout",
     "output_type": "stream",
     "text": [
      "LR with max loss0.9999999403953552\n"
     ]
    },
    {
     "data": {
      "text/plain": [
       "[0.099999994,\n",
       " 0.099999994,\n",
       " 0.099999994,\n",
       " 0.099999994,\n",
       " 0.099999994,\n",
       " 0.99999994,\n",
       " 0.99999994,\n",
       " 0.99999994,\n",
       " 0.99999994,\n",
       " 0.99999994]"
      ]
     },
     "execution_count": 163,
     "metadata": {},
     "output_type": "execute_result"
    }
   ],
   "source": [
    "max_loss = np.argmax(history['loss'])\n",
    "max_loss_lr = history[\"lr\"][max_loss]\n",
    "print(f'LR with max loss{optimal_lr}')\n",
    "history['lr'][max_loss-5:max_loss+5]"
   ]
  },
  {
   "cell_type": "markdown",
   "metadata": {},
   "source": [
    "Looks like $10^{-2}$ is a good learning rate"
   ]
  },
  {
   "cell_type": "code",
   "execution_count": 164,
   "metadata": {},
   "outputs": [
    {
     "name": "stdout",
     "output_type": "stream",
     "text": [
      "Model: \"model_2\"\n",
      "_________________________________________________________________\n",
      "Layer (type)                 Output Shape              Param #   \n",
      "=================================================================\n",
      "input_1 (InputLayer)         (None, 28, 28)            0         \n",
      "_________________________________________________________________\n",
      "flatten_1 (Flatten)          (None, 784)               0         \n",
      "_________________________________________________________________\n",
      "dense_1 (Dense)              (None, 100)               78500     \n",
      "_________________________________________________________________\n",
      "dense_2 (Dense)              (None, 100)               10100     \n",
      "_________________________________________________________________\n",
      "dense_3 (Dense)              (None, 10)                1010      \n",
      "=================================================================\n",
      "Total params: 89,610\n",
      "Trainable params: 89,610\n",
      "Non-trainable params: 0\n",
      "_________________________________________________________________\n",
      "Train on 50000 samples, validate on 10000 samples\n",
      "Epoch 1/100\n",
      "50000/50000 [==============================] - 4s 73us/step - loss: 0.0248 - accuracy: 0.9930 - val_loss: 0.0764 - val_accuracy: 0.9782\n",
      "Epoch 2/100\n",
      "50000/50000 [==============================] - 3s 59us/step - loss: 0.0206 - accuracy: 0.9948 - val_loss: 0.0755 - val_accuracy: 0.9787\n",
      "Epoch 3/100\n",
      "50000/50000 [==============================] - 3s 59us/step - loss: 0.0190 - accuracy: 0.9956 - val_loss: 0.0761 - val_accuracy: 0.9786\n",
      "Epoch 4/100\n",
      "50000/50000 [==============================] - 3s 59us/step - loss: 0.0178 - accuracy: 0.9961 - val_loss: 0.0757 - val_accuracy: 0.9797\n",
      "Epoch 5/100\n",
      "50000/50000 [==============================] - 3s 60us/step - loss: 0.0169 - accuracy: 0.9964 - val_loss: 0.0754 - val_accuracy: 0.9799\n",
      "Epoch 6/100\n",
      "50000/50000 [==============================] - 3s 58us/step - loss: 0.0160 - accuracy: 0.9969 - val_loss: 0.0761 - val_accuracy: 0.9797\n",
      "Epoch 7/100\n",
      "50000/50000 [==============================] - 3s 66us/step - loss: 0.0153 - accuracy: 0.9971 - val_loss: 0.0760 - val_accuracy: 0.9797\n",
      "Epoch 8/100\n",
      "50000/50000 [==============================] - 4s 75us/step - loss: 0.0147 - accuracy: 0.9974 - val_loss: 0.0758 - val_accuracy: 0.9794\n",
      "Epoch 9/100\n",
      "50000/50000 [==============================] - 3s 61us/step - loss: 0.0140 - accuracy: 0.9975 - val_loss: 0.0760 - val_accuracy: 0.9795\n",
      "Epoch 10/100\n",
      "50000/50000 [==============================] - 3s 59us/step - loss: 0.0135 - accuracy: 0.9978 - val_loss: 0.0770 - val_accuracy: 0.9802\n",
      "Epoch 11/100\n",
      "50000/50000 [==============================] - 3s 64us/step - loss: 0.0320 - accuracy: 0.9895 - val_loss: 0.0959 - val_accuracy: 0.9767\n",
      "Epoch 12/100\n",
      "50000/50000 [==============================] - 3s 58us/step - loss: 0.0289 - accuracy: 0.9908 - val_loss: 0.0935 - val_accuracy: 0.9754\n",
      "Epoch 13/100\n",
      "50000/50000 [==============================] - 3s 70us/step - loss: 0.0251 - accuracy: 0.9917 - val_loss: 0.0988 - val_accuracy: 0.9738\n",
      "Epoch 14/100\n",
      "50000/50000 [==============================] - 3s 64us/step - loss: 0.0202 - accuracy: 0.9932 - val_loss: 0.0919 - val_accuracy: 0.9765\n",
      "Epoch 15/100\n",
      "50000/50000 [==============================] - 4s 71us/step - loss: 0.0165 - accuracy: 0.9946 - val_loss: 0.0986 - val_accuracy: 0.9752\n"
     ]
    },
    {
     "data": {
      "text/plain": [
       "<keras.callbacks.callbacks.History at 0x7f30ac020cd0>"
      ]
     },
     "execution_count": 164,
     "metadata": {},
     "output_type": "execute_result"
    }
   ],
   "source": [
    "learning_rate = 1e-2\n",
    "optimizer = optimizers.SGD(lr=learning_rate)\n",
    "model = Model(inputs=inputs, outputs=output)\n",
    "model.compile(loss='sparse_categorical_crossentropy', \n",
    "              optimizer=optimizer,\n",
    "              metrics=['accuracy'])\n",
    "model.summary()\n",
    "\n",
    "model.fit(X_train, y_train, \n",
    "          epochs=epochs, \n",
    "          validation_data=(X_val, y_val), \n",
    "          batch_size=batch_size,\n",
    "          callbacks=callbacks)"
   ]
  },
  {
   "cell_type": "code",
   "execution_count": 165,
   "metadata": {},
   "outputs": [
    {
     "name": "stdout",
     "output_type": "stream",
     "text": [
      "10000/10000 [==============================] - 0s 23us/step\n"
     ]
    },
    {
     "data": {
      "text/plain": [
       "[13.160454574770789, 0.9779000282287598]"
      ]
     },
     "execution_count": 165,
     "metadata": {},
     "output_type": "execute_result"
    }
   ],
   "source": [
    "model.evaluate(X_test, y_test)"
   ]
  },
  {
   "cell_type": "markdown",
   "metadata": {},
   "source": [
    "97.7% accuracy :D"
   ]
  }
 ],
 "metadata": {
  "kernelspec": {
   "display_name": "Python 3",
   "language": "python",
   "name": "python3"
  },
  "language_info": {
   "codemirror_mode": {
    "name": "ipython",
    "version": 3
   },
   "file_extension": ".py",
   "mimetype": "text/x-python",
   "name": "python",
   "nbconvert_exporter": "python",
   "pygments_lexer": "ipython3",
   "version": "3.8.2"
  }
 },
 "nbformat": 4,
 "nbformat_minor": 4
}
